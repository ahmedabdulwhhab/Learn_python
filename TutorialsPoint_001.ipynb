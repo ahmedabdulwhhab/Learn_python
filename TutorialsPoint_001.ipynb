{
 "cells": [
  {
   "cell_type": "markdown",
   "metadata": {},
   "source": [
    "## Notes\n",
    "## Click Esc then A to insert cell Above current cell\n",
    "## Click Esc then B to insert cell Below current cell\n",
    "## d then d to delete cell\n",
    "## Tab button for autocomplete, then press Enter Key to accept suggested"
   ]
  },
  {
   "cell_type": "markdown",
   "metadata": {},
   "source": [
    "## Numerical python numpy array forms"
   ]
  },
  {
   "cell_type": "markdown",
   "metadata": {},
   "source": [
    "## Arrays"
   ]
  },
  {
   "cell_type": "code",
   "execution_count": 63,
   "metadata": {},
   "outputs": [
    {
     "name": "stdout",
     "output_type": "stream",
     "text": [
      "[[ True]\n",
      " [False]\n",
      " [False]\n",
      " [ True]]\n"
     ]
    },
    {
     "name": "stderr",
     "output_type": "stream",
     "text": [
      "<ipython-input-63-b0e14debfe6f>:44: FutureWarning: Using a non-tuple sequence for multidimensional indexing is deprecated; use `arr[tuple(seq)]` instead of `arr[seq]`. In the future this will be interpreted as an array index, `arr[np.array(seq)]`, which will result either in an error or a different result.\n",
      "  print(b[[c==1]*1][:,0:2])\n"
     ]
    },
    {
     "ename": "IndexError",
     "evalue": "boolean index did not match indexed array along dimension 1; dimension is 4 but corresponding boolean dimension is 1",
     "output_type": "error",
     "traceback": [
      "\u001b[1;31m---------------------------------------------------------------------------\u001b[0m",
      "\u001b[1;31mIndexError\u001b[0m                                Traceback (most recent call last)",
      "\u001b[1;32m<ipython-input-63-b0e14debfe6f>\u001b[0m in \u001b[0;36m<module>\u001b[1;34m\u001b[0m\n\u001b[0;32m     42\u001b[0m \u001b[1;33m\u001b[0m\u001b[0m\n\u001b[0;32m     43\u001b[0m \u001b[0mprint\u001b[0m \u001b[1;33m(\u001b[0m\u001b[0mc\u001b[0m\u001b[1;33m==\u001b[0m\u001b[1;36m1\u001b[0m\u001b[1;33m)\u001b[0m\u001b[1;33m\u001b[0m\u001b[1;33m\u001b[0m\u001b[0m\n\u001b[1;32m---> 44\u001b[1;33m \u001b[0mprint\u001b[0m\u001b[1;33m(\u001b[0m\u001b[0mb\u001b[0m\u001b[1;33m[\u001b[0m\u001b[1;33m[\u001b[0m\u001b[0mc\u001b[0m\u001b[1;33m==\u001b[0m\u001b[1;36m1\u001b[0m\u001b[1;33m]\u001b[0m\u001b[1;33m*\u001b[0m\u001b[1;36m1\u001b[0m\u001b[1;33m]\u001b[0m\u001b[1;33m[\u001b[0m\u001b[1;33m:\u001b[0m\u001b[1;33m,\u001b[0m\u001b[1;36m0\u001b[0m\u001b[1;33m:\u001b[0m\u001b[1;36m2\u001b[0m\u001b[1;33m]\u001b[0m\u001b[1;33m)\u001b[0m\u001b[1;33m\u001b[0m\u001b[1;33m\u001b[0m\u001b[0m\n\u001b[0m",
      "\u001b[1;31mIndexError\u001b[0m: boolean index did not match indexed array along dimension 1; dimension is 4 but corresponding boolean dimension is 1"
     ]
    }
   ],
   "source": [
    "import numpy as np \n",
    "a = np.array([['Mon',18,20,22,17],\n",
    "              ['Tue',11,18,21,18],\n",
    "              ['Wed',15,21,20,19],\n",
    "              ['Thu',17,16,22,18]])\n",
    "############Print the Matrix    \n",
    "#print(a)\n",
    "############Access/Print Row number 2\n",
    "#x=a[2]\n",
    "#print(x)\n",
    "############Access/Print Element\n",
    "#x=a[2][3]\n",
    "#print(x)\n",
    "############Adding a Row\n",
    "#a = np.append(a,[['Fri',16,18,22,15]],0)\n",
    "#print (x)\n",
    "############Adding a Column\n",
    "#Position_of_inserted_column=[3]\n",
    "#Added_column_Values=[[1],[2],[3],[4]]\n",
    "#x = np.insert(a,Position_of_inserted_column,Added_column_Values,axis=1)\n",
    "#print (x)\n",
    "###########Delete a row\n",
    "#print(np.delete(a,[2],0))\n",
    "###########Delete a Column\n",
    "#print(np.delete(a,[0],1))\n",
    "###########Modify values of a row\n",
    "#a[2]=['Sun',10,20,30,40]\n",
    "#print (a)\n",
    "########## point to a portion in matrix\n",
    "b=np.array([[1,2,3,4],\n",
    "            [2,3,4,5],\n",
    "            [6,7,8,9],\n",
    "            [3,4,5,6]])\n",
    "c=np.array([[1],\n",
    "            [0],\n",
    "            [0],\n",
    "            [1]])\n",
    "#No_of_Rows=2\n",
    "#print(b[:No_of_Rows,:])  #Print 2 Rows and all columns \n",
    "#No_of_Cols=3\n",
    "#print(b[:,:No_of_Cols])  #Print All Rows and 3 columns \n",
    "\n",
    "print (c==1)\n",
    "print(b[[c==1]*1][:,0:2])"
   ]
  },
  {
   "cell_type": "code",
   "execution_count": null,
   "metadata": {},
   "outputs": [],
   "source": []
  },
  {
   "cell_type": "code",
   "execution_count": 142,
   "metadata": {},
   "outputs": [
    {
     "name": "stdout",
     "output_type": "stream",
     "text": [
      "Scalar np.array([5, 6, 7]).shape (3,)\n",
      "Scalar np.array([5, 6, 7]) will be \t [1 6 7]\n",
      "Scalar x[2] will be \t 7\n",
      "Scalar x[1][0] will be \t int32\n",
      "Vector np.array([[1, 2, 3], [4, 5,6]]).shape (2, 3)\n",
      "number of Rows in x is  2\n",
      "number of Cols in x is  3\n",
      "Vector np.array([[1, 2, 3], [4, 5,6]]) will be\n",
      " [[1 2 3]\n",
      " [4 5 6]]\n",
      "Vector x[1][0] will be \t 4\n",
      "Vector x[1][0] will be \t int32\n",
      "np.array([[1], [2],[3],[4]]).shape (4, 1)\n",
      "np.array([[1], [2],[3],[4]]) will be\n",
      " 1.118033988749895\n",
      "Vector x[1][0] will be \n",
      " 2\n"
     ]
    }
   ],
   "source": [
    "import numpy as np\n",
    "\n",
    "\n",
    "# to learn only\n",
    "################ Scalar Values #############\n",
    "x=np.array([5, 6, 7],'int')\n",
    "x[0]=1\n",
    "print(\"Scalar np.array([5, 6, 7]).shape\",x.shape)\n",
    "print(\"Scalar np.array([5, 6, 7]) will be \\t\",x)\n",
    "print(\"Scalar x[2] will be \\t\",x[2])\n",
    "print(\"Scalar x[1][0] will be \\t\",x.dtype)\n",
    "################ Vector Values #############\n",
    "x=np.array([[1, 2, 3], [4, 5,6]],int)\n",
    "print(\"Vector np.array([[1, 2, 3], [4, 5,6]]).shape\",x.shape)\n",
    "print(\"number of Rows in x is \",x.shape[0])\n",
    "print(\"number of Cols in x is \",x.shape[1])\n",
    "print(\"Vector np.array([[1, 2, 3], [4, 5,6]]) will be\\n\",x)\n",
    "print(\"Vector x[1][0] will be \\t\",x[1][0])\n",
    "print(\"Vector x[1][0] will be \\t\",x.dtype)\n",
    "################ Single COlumn #############\n",
    "x=np.array([[1], [2],[3],[4]])\n",
    "print(\"np.array([[1], [2],[3],[4]]).shape\",x.shape)\n",
    "print(\"np.array([[1], [2],[3],[4]]) will be\\n\",x.std())\n",
    "print(\"Vector x[1][0] will be \\n\",x[1][0])"
   ]
  },
  {
   "cell_type": "code",
   "execution_count": 238,
   "metadata": {},
   "outputs": [
    {
     "name": "stdout",
     "output_type": "stream",
     "text": [
      "first loop 1\n",
      "3*i= 6\n",
      "i+i= 4\n",
      "first loop 2\n",
      "3*i= 9\n",
      "i+i= 6\n",
      "first loop 3\n",
      "3*i= 12\n",
      "i+i= 8\n",
      "first loop 4\n",
      "3*i= 15\n",
      "i+i= 10\n",
      "Second For\n",
      "9\n",
      "6\n",
      "12\n",
      "8\n",
      "15\n",
      "10\n",
      "18\n",
      "12\n",
      "21\n",
      "14\n"
     ]
    }
   ],
   "source": [
    "j=1\n",
    "for i in range(2, 6):\n",
    "  print(\"first loop\" ,j)\n",
    "  print (\"3*i=\",3*i)\n",
    "  print (\"i+i=\",i+i)\n",
    "  j+=1\n",
    "\n",
    "print (\"Second For\")    \n",
    "for k in range(3, 8):\n",
    "  print (3*k)\n",
    "  print (k+k)\n"
   ]
  },
  {
   "cell_type": "code",
   "execution_count": 18,
   "metadata": {},
   "outputs": [
    {
     "name": "stdout",
     "output_type": "stream",
     "text": [
      "Sum of A,B,C and D is  10\n",
      "Cos of A is  0.5000000000000001\n"
     ]
    }
   ],
   "source": [
    "# دائما حافظ على طغط مفتاح Enter  \n",
    "# لأن التنفيذ والأقواس هنا تعتبر هي المسافات\n",
    "class AhMathClass:\n",
    "    def __init__(self, A=1, B=1, C=1, D=1):\n",
    "        self.A = A\n",
    "        self.B = B\n",
    "        self.C = C\n",
    "        self.D = D\n",
    "\n",
    "################ Function ###########\n",
    "    def Equa(self, A,B,C,D):\n",
    "        return A-B+C+D\n",
    "################ dFunction ###########\n",
    "    def ACosinDegree(self, A):\n",
    "        return np.cos(A*(3.1415926535897932384626433832795)/180)\n",
    "################ Object from calass##\n",
    "Obj1 = AhMathClass()\n",
    "print (\"Sum of A,B,C and D is \",Obj1.Equa(A=5,D=7,C=6,B=8))\n",
    "print (\"Cos of A is \",Obj1.ACosinDegree(A=60))"
   ]
  },
  {
   "cell_type": "code",
   "execution_count": null,
   "metadata": {},
   "outputs": [],
   "source": []
  },
  {
   "cell_type": "markdown",
   "metadata": {},
   "source": [
    "## Panda notes\n",
    "## Series Data"
   ]
  },
  {
   "cell_type": "code",
   "execution_count": 3,
   "metadata": {},
   "outputs": [
    {
     "name": "stdout",
     "output_type": "stream",
     "text": [
      "0     H\n",
      "1     a\n",
      "2     j\n",
      "3     e\n",
      "4     r\n",
      "5      \n",
      "6     a\n",
      "7     h\n",
      "8     m\n",
      "9     e\n",
      "10    d\n",
      "dtype: object\n"
     ]
    }
   ],
   "source": [
    "import pandas as pd\n",
    "import numpy as np\n",
    "data=np.array(['H','a','j','e','r',' ', 'a','h','m','e','d'])\n",
    "# we use numerical python to generate an array\n",
    "#numpy is useful in generating arrays\n",
    "# then we will convert it pandas to do data processing\n",
    "s=pd.Series(data)\n",
    "print (s)"
   ]
  },
  {
   "cell_type": "markdown",
   "metadata": {},
   "source": [
    "## Panda Notes\n",
    "## Load CSV File\n",
    "## Without Header"
   ]
  },
  {
   "cell_type": "code",
   "execution_count": 12,
   "metadata": {},
   "outputs": [
    {
     "name": "stdout",
     "output_type": "stream",
     "text": [
      "(99, 9)\n"
     ]
    },
    {
     "data": {
      "text/html": [
       "<div>\n",
       "<style scoped>\n",
       "    .dataframe tbody tr th:only-of-type {\n",
       "        vertical-align: middle;\n",
       "    }\n",
       "\n",
       "    .dataframe tbody tr th {\n",
       "        vertical-align: top;\n",
       "    }\n",
       "\n",
       "    .dataframe thead th {\n",
       "        text-align: right;\n",
       "    }\n",
       "</style>\n",
       "<table border=\"1\" class=\"dataframe\">\n",
       "  <thead>\n",
       "    <tr style=\"text-align: right;\">\n",
       "      <th></th>\n",
       "      <th>5.1</th>\n",
       "      <th>0.222222222</th>\n",
       "      <th>3.5</th>\n",
       "      <th>0.625</th>\n",
       "      <th>1.4</th>\n",
       "      <th>0.06779661</th>\n",
       "      <th>0.2</th>\n",
       "      <th>0.041666667</th>\n",
       "      <th>setosa</th>\n",
       "    </tr>\n",
       "  </thead>\n",
       "  <tbody>\n",
       "    <tr>\n",
       "      <th>0</th>\n",
       "      <td>4.9</td>\n",
       "      <td>0.166667</td>\n",
       "      <td>3.0</td>\n",
       "      <td>0.416667</td>\n",
       "      <td>1.4</td>\n",
       "      <td>0.067797</td>\n",
       "      <td>0.2</td>\n",
       "      <td>0.041667</td>\n",
       "      <td>setosa</td>\n",
       "    </tr>\n",
       "    <tr>\n",
       "      <th>1</th>\n",
       "      <td>4.7</td>\n",
       "      <td>0.111111</td>\n",
       "      <td>3.2</td>\n",
       "      <td>0.500000</td>\n",
       "      <td>1.3</td>\n",
       "      <td>0.050847</td>\n",
       "      <td>0.2</td>\n",
       "      <td>0.041667</td>\n",
       "      <td>setosa</td>\n",
       "    </tr>\n",
       "    <tr>\n",
       "      <th>2</th>\n",
       "      <td>4.6</td>\n",
       "      <td>0.083333</td>\n",
       "      <td>3.1</td>\n",
       "      <td>0.458333</td>\n",
       "      <td>1.5</td>\n",
       "      <td>0.084746</td>\n",
       "      <td>0.2</td>\n",
       "      <td>0.041667</td>\n",
       "      <td>setosa</td>\n",
       "    </tr>\n",
       "    <tr>\n",
       "      <th>3</th>\n",
       "      <td>5.0</td>\n",
       "      <td>0.194444</td>\n",
       "      <td>3.6</td>\n",
       "      <td>0.666667</td>\n",
       "      <td>1.4</td>\n",
       "      <td>0.067797</td>\n",
       "      <td>0.2</td>\n",
       "      <td>0.041667</td>\n",
       "      <td>setosa</td>\n",
       "    </tr>\n",
       "    <tr>\n",
       "      <th>4</th>\n",
       "      <td>5.4</td>\n",
       "      <td>0.305556</td>\n",
       "      <td>3.9</td>\n",
       "      <td>0.791667</td>\n",
       "      <td>1.7</td>\n",
       "      <td>0.118644</td>\n",
       "      <td>0.4</td>\n",
       "      <td>0.125000</td>\n",
       "      <td>setosa</td>\n",
       "    </tr>\n",
       "  </tbody>\n",
       "</table>\n",
       "</div>"
      ],
      "text/plain": [
       "   5.1  0.222222222  3.5     0.625  1.4  0.06779661  0.2  0.041666667  setosa\n",
       "0  4.9     0.166667  3.0  0.416667  1.4    0.067797  0.2     0.041667  setosa\n",
       "1  4.7     0.111111  3.2  0.500000  1.3    0.050847  0.2     0.041667  setosa\n",
       "2  4.6     0.083333  3.1  0.458333  1.5    0.084746  0.2     0.041667  setosa\n",
       "3  5.0     0.194444  3.6  0.666667  1.4    0.067797  0.2     0.041667  setosa\n",
       "4  5.4     0.305556  3.9  0.791667  1.7    0.118644  0.4     0.125000  setosa"
      ]
     },
     "execution_count": 12,
     "metadata": {},
     "output_type": "execute_result"
    }
   ],
   "source": [
    "import pandas as pd\n",
    "data=pd.read_csv('E:\\Master Telecom Engineering\\Machine Learning\\CSV\\IRIS.csv',sep=',',encoding='utf8')\n",
    "print (data.shape)\n",
    "data.head()"
   ]
  },
  {
   "cell_type": "markdown",
   "metadata": {},
   "source": [
    "## Load CSV\n",
    "## Add Header for data as it is comming without header"
   ]
  },
  {
   "cell_type": "code",
   "execution_count": 20,
   "metadata": {},
   "outputs": [
    {
     "name": "stdout",
     "output_type": "stream",
     "text": [
      "(768, 9)\n",
      "<class 'pandas.core.frame.DataFrame'>\n",
      "RangeIndex: 768 entries, 0 to 767\n",
      "Data columns (total 9 columns):\n",
      " #   Column  Non-Null Count  Dtype  \n",
      "---  ------  --------------  -----  \n",
      " 0   preg    768 non-null    int64  \n",
      " 1   plas    768 non-null    int64  \n",
      " 2   pres    768 non-null    int64  \n",
      " 3   skin    768 non-null    int64  \n",
      " 4   test    768 non-null    int64  \n",
      " 5   mass    768 non-null    float64\n",
      " 6   pedi    768 non-null    float64\n",
      " 7   age     768 non-null    int64  \n",
      " 8   class   768 non-null    int64  \n",
      "dtypes: float64(2), int64(7)\n",
      "memory usage: 54.1 KB\n",
      "Count Class= class\n",
      "0    500\n",
      "1    268\n",
      "dtype: int64\n"
     ]
    }
   ],
   "source": [
    "import pandas as pd\n",
    "\n",
    "path = r\"E:\\Master Telecom Engineering\\Machine Learning\\CSV\\pima-indians-diabetes.csv\"\n",
    "headernames = ['preg', 'plas', 'pres', 'skin', 'test', 'mass', 'pedi', 'age', 'class']\n",
    "data = pd.read_csv(path, names=headernames)\n",
    "\n",
    "\n",
    "print (data.shape)\n",
    "#data.head()      # Default is 5 Rows\n",
    "data.head(6)      # to print first 6 rows\n",
    "#data.info()      # name of each column, no of values, data type\n",
    "data.describe()   # get stastics of table\n",
    "count_class=data.groupby('class').size() #filter by each value and count each one.\n",
    "print (\"Count Class=\",count_class)"
   ]
  },
  {
   "cell_type": "code",
   "execution_count": null,
   "metadata": {},
   "outputs": [],
   "source": []
  },
  {
   "cell_type": "markdown",
   "metadata": {},
   "source": [
    "## Correlation"
   ]
  },
  {
   "cell_type": "code",
   "execution_count": 27,
   "metadata": {},
   "outputs": [
    {
     "name": "stdout",
     "output_type": "stream",
     "text": [
      "       preg  plas  pres  skin  test  mass  pedi   age  class\n",
      "preg   1.00  0.13  0.14 -0.08 -0.07  0.02 -0.03  0.54   0.22\n",
      "plas   0.13  1.00  0.15  0.06  0.33  0.22  0.14  0.26   0.47\n",
      "pres   0.14  0.15  1.00  0.21  0.09  0.28  0.04  0.24   0.07\n",
      "skin  -0.08  0.06  0.21  1.00  0.44  0.39  0.18 -0.11   0.07\n",
      "test  -0.07  0.33  0.09  0.44  1.00  0.20  0.19 -0.04   0.13\n",
      "mass   0.02  0.22  0.28  0.39  0.20  1.00  0.14  0.04   0.29\n",
      "pedi  -0.03  0.14  0.04  0.18  0.19  0.14  1.00  0.03   0.17\n",
      "age    0.54  0.26  0.24 -0.11 -0.04  0.04  0.03  1.00   0.24\n",
      "class  0.22  0.47  0.07  0.07  0.13  0.29  0.17  0.24   1.00\n"
     ]
    }
   ],
   "source": [
    "import pandas as pd\n",
    "\n",
    "path = r\"E:\\Master Telecom Engineering\\Machine Learning\\CSV\\pima-indians-diabetes.csv\"\n",
    "headernames = ['preg', 'plas', 'pres', 'skin', 'test', 'mass', 'pedi', 'age', 'class']\n",
    "data = pd.read_csv(path, names=headernames)\n",
    "\n",
    "pd.set_option('display.width',100)\n",
    "pd.set_option('precision',2)\n",
    "correlation=data.corr()\n",
    "print (correlation)"
   ]
  },
  {
   "cell_type": "markdown",
   "metadata": {},
   "source": [
    "## DataVisualization\n",
    "## Histogram"
   ]
  },
  {
   "cell_type": "code",
   "execution_count": 33,
   "metadata": {},
   "outputs": [
    {
     "data": {
      "image/png": "[encoded data removed]",
      "text/plain": [
       "<Figure size 1152x1008 with 9 Axes>"
      ]
     },
     "metadata": {
      "needs_background": "light"
     },
     "output_type": "display_data"
    }
   ],
   "source": [
    "import pandas as pd\n",
    "import matplotlib.pyplot as plt\n",
    "\n",
    "path = r\"E:\\Master Telecom Engineering\\Machine Learning\\CSV\\pima-indians-diabetes.csv\"\n",
    "headernames = ['preg', 'plas', 'pres', 'skin', 'test', 'mass', 'pedi', 'age', 'class']\n",
    "data = pd.read_csv(path, names=headernames)\n",
    "\n",
    "data.hist(bins=30,figsize=(16,14))\n",
    "plt.show()"
   ]
  },
  {
   "cell_type": "markdown",
   "metadata": {},
   "source": [
    "## Histogram for categorical "
   ]
  },
  {
   "cell_type": "code",
   "execution_count": 243,
   "metadata": {},
   "outputs": [
    {
     "name": "stdout",
     "output_type": "stream",
     "text": [
      "<1H OCEAN     9136\n",
      "INLAND        6551\n",
      "NEAR OCEAN    2658\n",
      "NEAR BAY      2290\n",
      "ISLAND           5\n",
      "Name: ocean_proximity, dtype: int64\n"
     ]
    },
    {
     "data": {
      "image/png": "[encoded data removed]",
      "text/plain": [
       "<Figure size 432x288 with 1 Axes>"
      ]
     },
     "metadata": {
      "needs_background": "light"
     },
     "output_type": "display_data"
    }
   ],
   "source": [
    "import pandas as pd\n",
    "import matplotlib.pyplot as plt\n",
    "%matplotlib inline\n",
    "\n",
    "path = r\"E:\\Master Telecom Engineering\\Machine Learning\\CSV\\housing.csv\"\n",
    "\n",
    "data = pd.read_csv(path)\n",
    "print(data['ocean_proximity'].value_counts())\n",
    "#data['ocean_proximity'].hist(bins=30,figsize=(16,14))\n",
    "#plt.show()\n",
    "pd.value_counts(data['ocean_proximity']).plot.bar()\n",
    "plt.show()"
   ]
  },
  {
   "cell_type": "markdown",
   "metadata": {},
   "source": [
    "## Data Visualization\n",
    "## Density Plots"
   ]
  },
  {
   "cell_type": "code",
   "execution_count": null,
   "metadata": {},
   "outputs": [],
   "source": []
  },
  {
   "cell_type": "code",
   "execution_count": 244,
   "metadata": {},
   "outputs": [
    {
     "data": {
      "image/png": "[encoded data removed]",
      "text/plain": [
       "<Figure size 1152x1008 with 9 Axes>"
      ]
     },
     "metadata": {
      "needs_background": "light"
     },
     "output_type": "display_data"
    }
   ],
   "source": [
    "import pandas as pd\n",
    "import matplotlib.pyplot as plt\n",
    "%matplotlib inline\n",
    "\n",
    "path = r\"E:\\Master Telecom Engineering\\Machine Learning\\CSV\\pima-indians-diabetes.csv\"\n",
    "headernames = ['preg', 'plas', 'pres', 'skin', 'test', 'mass', 'pedi', 'age', 'class']\n",
    "data = pd.read_csv(path, names=headernames)\n",
    "#data.plot(figsize=(16,14),kind='density', subplots=True, layout=(3,3), sharex=False) #all columns\n",
    "data['preg'].plot(figsize=(16,14),kind='density', subplots=True, layout=(3,3), sharex=False) #single column\n",
    "\n",
    "plt.show()"
   ]
  },
  {
   "cell_type": "code",
   "execution_count": 41,
   "metadata": {},
   "outputs": [
    {
     "data": {
      "image/png": "[encoded data removed]",
      "text/plain": [
       "<Figure size 1152x1008 with 9 Axes>"
      ]
     },
     "metadata": {
      "needs_background": "light"
     },
     "output_type": "display_data"
    },
    {
     "data": {
      "image/png": "[encoded data removed]",
      "text/plain": [
       "<Figure size 432x288 with 1 Axes>"
      ]
     },
     "metadata": {
      "needs_background": "light"
     },
     "output_type": "display_data"
    }
   ],
   "source": [
    "import pandas as pd\n",
    "import matplotlib.pyplot as plt\n",
    "\n",
    "path = r\"E:\\Master Telecom Engineering\\Machine Learning\\CSV\\pima-indians-diabetes.csv\"\n",
    "headernames = ['preg', 'plas', 'pres', 'skin', 'test', 'mass', 'pedi', 'age', 'class']\n",
    "data = pd.read_csv(path, names=headernames)\n",
    "#data.plot(figsize=(16,14),kind='density', subplots=True, layout=(3,3), sharex=False) #all columns\n",
    "#data['preg'].plot(figsize=(16,14),kind='density', subplots=True, layout=(3,3), sharex=False) #single column\n",
    "data['preg'].plot(figsize=(16,14),kind='density', subplots=True, layout=(3,3), sharex=False) #single column\n",
    "plt.show()\n",
    "data['preg'].hist()\n",
    "plt.show()"
   ]
  },
  {
   "cell_type": "markdown",
   "metadata": {},
   "source": [
    "## Data Visualization\n",
    "## Box and Whisker Plots\n",
    "تعتمد هذه الطريقة على حساب \n",
    "- Median (Second Quarter)\n",
    "- First Quarter\n",
    "- Third Qurater\n",
    "Example\n",
    "Draw Box and Whisker for 6 7 5 3 1 2 4\n",
    "Sort value ascending\n",
    "1 2 3 4 5 6 7\n",
    "we have seven values which median is 4\n",
    "1       2       3       4       5       6       7\n",
    "           25%         Med          75%\n",
    "     min=0% at 1\n",
    "     25%    at (2+3)/2=2.25\n",
    "     50%    at 4\n",
    "     75%    at (5+6)/2=5.5\n",
    "     max=0% at 7"
   ]
  },
  {
   "cell_type": "code",
   "execution_count": 53,
   "metadata": {},
   "outputs": [
    {
     "name": "stdout",
     "output_type": "stream",
     "text": [
      "s.median = 4.0\n"
     ]
    },
    {
     "data": {
      "image/png": "[encoded data removed]",
      "text/plain": [
       "<Figure size 1152x1008 with 9 Axes>"
      ]
     },
     "metadata": {
      "needs_background": "light"
     },
     "output_type": "display_data"
    }
   ],
   "source": [
    "import pandas as pd\n",
    "import numpy as np\n",
    "import matplotlib.pyplot as plt\n",
    "data=np.array([6,7,5,3,1,2,4])\n",
    "# we use numerical python to generate an array\n",
    "#numpy is useful in generating arrays\n",
    "# then we will convert it pandas to do data processing\n",
    "s=pd.Series(data)\n",
    "s=s.sort_values()\n",
    "\n",
    "print (\"s.median =\",s.median())\n",
    "s.plot(figsize=(16,14),kind='box', subplots=True, layout=(3,3), sharex=False,grid=True) #single column\n",
    "plt.show()"
   ]
  },
  {
   "cell_type": "code",
   "execution_count": null,
   "metadata": {},
   "outputs": [],
   "source": []
  },
  {
   "cell_type": "code",
   "execution_count": 52,
   "metadata": {
    "scrolled": true
   },
   "outputs": [
    {
     "name": "stdout",
     "output_type": "stream",
     "text": [
      "3.0\n"
     ]
    },
    {
     "data": {
      "image/png": "[encoded data removed]",
      "text/plain": [
       "<Figure size 1152x1008 with 9 Axes>"
      ]
     },
     "metadata": {
      "needs_background": "light"
     },
     "output_type": "display_data"
    }
   ],
   "source": [
    "import pandas as pd\n",
    "import matplotlib.pyplot as plt\n",
    "\n",
    "path = r\"E:\\Master Telecom Engineering\\Machine Learning\\CSV\\pima-indians-diabetes.csv\"\n",
    "headernames = ['preg', 'plas', 'pres', 'skin', 'test', 'mass', 'pedi', 'age', 'class']\n",
    "data = pd.read_csv(path, names=headernames)\n",
    "print(data['preg'].median())\n",
    "\n",
    "data.plot(figsize=(16,14),kind='box', subplots=True, layout=(3,3), sharex=False,grid=True) #single column\n",
    "plt.show()"
   ]
  },
  {
   "cell_type": "markdown",
   "metadata": {},
   "source": [
    "## Correlation Matrix Plot"
   ]
  },
  {
   "cell_type": "code",
   "execution_count": 60,
   "metadata": {
    "scrolled": true
   },
   "outputs": [
    {
     "data": {
      "image/png": "[encoded data removed]",
      "text/plain": [
       "<Figure size 432x288 with 2 Axes>"
      ]
     },
     "metadata": {
      "needs_background": "light"
     },
     "output_type": "display_data"
    }
   ],
   "source": [
    "import pandas as pd\n",
    "import numpy as np\n",
    "import matplotlib.pyplot as plt\n",
    "\n",
    "path = r\"E:\\Master Telecom Engineering\\Machine Learning\\CSV\\pima-indians-diabetes.csv\"\n",
    "headernames = ['preg', 'plas', 'pres', 'skin', 'test', 'mass', 'pedi', 'age', 'class']\n",
    "data = pd.read_csv(path, names=headernames)\n",
    "\n",
    "correlations = data.corr()\n",
    "fig = plt.figure()\n",
    "ax = fig.add_subplot(111)\n",
    "cax = ax.matshow(correlations, vmin=-1, vmax=1)\n",
    "fig.colorbar(cax)\n",
    "ticks = np.arange(0,9,1)\n",
    "ax.set_xticks(ticks)\n",
    "ax.set_yticks(ticks)\n",
    "ax.set_xticklabels(headernames)\n",
    "ax.set_yticklabels(headernames)\n",
    "plt.show()"
   ]
  },
  {
   "cell_type": "markdown",
   "metadata": {},
   "source": [
    "## scatter Matrix"
   ]
  },
  {
   "cell_type": "code",
   "execution_count": 71,
   "metadata": {
    "scrolled": true
   },
   "outputs": [
    {
     "data": {
      "image/png": "[encoded data removed]",
      "text/plain": [
       "<Figure size 432x288 with 1 Axes>"
      ]
     },
     "metadata": {
      "needs_background": "light"
     },
     "output_type": "display_data"
    }
   ],
   "source": [
    "import pandas as pd\n",
    "import numpy as np\n",
    "import matplotlib.pyplot as plt\n",
    "\n",
    "path = r\"E:\\Master Telecom Engineering\\Machine Learning\\CSV\\pima-indians-diabetes.csv\"\n",
    "headernames = ['preg', 'plas', 'pres', 'skin', 'test', 'mass', 'pedi', 'age', 'class']\n",
    "data = pd.read_csv(path, names=headernames)\n",
    "\n",
    "plt.scatter(data['pedi'],data['mass'])\n",
    "plt.show()"
   ]
  },
  {
   "cell_type": "code",
   "execution_count": 76,
   "metadata": {},
   "outputs": [
    {
     "data": {
      "image/png": "[encoded data removed]",
      "text/plain": [
       "<Figure size 1152x216 with 1 Axes>"
      ]
     },
     "metadata": {
      "needs_background": "light"
     },
     "output_type": "display_data"
    }
   ],
   "source": [
    "import pandas as pd\n",
    "import numpy as np\n",
    "import matplotlib.pyplot as plt\n",
    "\n",
    "\n",
    "path = r\"E:\\Master Telecom Engineering\\Machine Learning\\CSV\\pima-indians-diabetes.csv\"\n",
    "headernames = ['preg', 'plas', 'pres', 'skin', 'test', 'mass', 'pedi', 'age', 'class']\n",
    "data = pd.read_csv(path, names=headernames)\n",
    "\n",
    "\n",
    "fig, ax=plt.subplots(figsize=(16,3))\n",
    "ax.scatter(data['pedi'],data['mass'])\n",
    "ax.set_xlabel(\"Pedi\")\n",
    "ax.set_ylabel(\"mass\")\n",
    "plt.show()"
   ]
  },
  {
   "cell_type": "markdown",
   "metadata": {},
   "source": [
    "## Data Preprocessing\n",
    "-- Scaling\n"
   ]
  },
  {
   "cell_type": "code",
   "execution_count": null,
   "metadata": {},
   "outputs": [],
   "source": []
  },
  {
   "cell_type": "code",
   "execution_count": 48,
   "metadata": {
    "scrolled": true
   },
   "outputs": [
    {
     "name": "stdout",
     "output_type": "stream",
     "text": [
      "Before Scaling\n",
      "    preg  plas  pres  skin  test  mass   pedi  age  class\n",
      "0     6   148    72    35     0  33.6  0.627   50      1\n",
      "1     1    85    66    29     0  26.6  0.351   31      0\n",
      "2     8   183    64     0     0  23.3  0.672   32      1\n",
      "3     1    89    66    23    94  28.1  0.167   21      0\n",
      "4     0   137    40    35   168  43.1  2.288   33      1\n",
      "5     5   116    74     0     0  25.6  0.201   30      0\n",
      "6     3    78    50    32    88  31.0  0.248   26      1\n",
      "7    10   115     0     0     0  35.3  0.134   29      0\n",
      "8     2   197    70    45   543  30.5  0.158   53      1\n",
      "9     8   125    96     0     0   0.0  0.232   54      1\n",
      "\n",
      "Scaled data:\n",
      " [[0.4 0.7 0.6 0.4 0.  0.5 0.2 0.5 1. ]\n",
      " [0.1 0.4 0.5 0.3 0.  0.4 0.1 0.2 0. ]\n",
      " [0.5 0.9 0.5 0.  0.  0.3 0.3 0.2 1. ]\n",
      " [0.1 0.4 0.5 0.2 0.1 0.4 0.  0.  0. ]\n",
      " [0.  0.7 0.3 0.4 0.2 0.6 0.9 0.2 1. ]\n",
      " [0.3 0.6 0.6 0.  0.  0.4 0.1 0.2 0. ]\n",
      " [0.2 0.4 0.4 0.3 0.1 0.5 0.1 0.1 1. ]\n",
      " [0.6 0.6 0.  0.  0.  0.5 0.  0.1 0. ]\n",
      " [0.1 1.  0.6 0.5 0.6 0.5 0.  0.5 1. ]\n",
      " [0.5 0.6 0.8 0.  0.  0.  0.1 0.6 1. ]]\n"
     ]
    }
   ],
   "source": [
    "import pandas as pd\n",
    "import numpy as np\n",
    "import matplotlib.pyplot as plt\n",
    "import sklearn.preprocessing as skpre\n",
    "\n",
    "path = r\"E:\\Master Telecom Engineering\\Machine Learning\\CSV\\pima-indians-diabetes.csv\"\n",
    "headernames = ['preg', 'plas', 'pres', 'skin', 'test', 'mass', 'pedi', 'age', 'class']\n",
    "data = pd.read_csv(path, names=headernames)\n",
    "\n",
    "######## convert dataframe into array\n",
    "array=data.values\n",
    "data_scaler = skpre.MinMaxScaler(feature_range=(0,1))\n",
    "data_rescaled = data_scaler.fit_transform(array)\n",
    "\n",
    "#next two lines affects return from pd\n",
    "pd.set_option('display.width',100)\n",
    "pd.set_option('precision',3)\n",
    "print(\"Before Scaling\\n\",data.head(10))\n",
    "np.set_printoptions(precision=1)\n",
    "print (\"\\nScaled data:\\n\", data_rescaled[0:10])"
   ]
  },
  {
   "cell_type": "markdown",
   "metadata": {},
   "source": [
    "## Normaliztion\n",
    "L1"
   ]
  },
  {
   "cell_type": "code",
   "execution_count": 7,
   "metadata": {},
   "outputs": [
    {
     "name": "stdout",
     "output_type": "stream",
     "text": [
      "Before Scaling\n",
      "    preg  plas  pres  skin  test  mass   pedi  age  class\n",
      "0     6   148    72    35     0  33.6  0.627   50      1\n",
      "1     1    85    66    29     0  26.6  0.351   31      0\n",
      "2     8   183    64     0     0  23.3  0.672   32      1\n",
      "3     1    89    66    23    94  28.1  0.167   21      0\n",
      "4     0   137    40    35   168  43.1  2.288   33      1\n",
      "5     5   116    74     0     0  25.6  0.201   30      0\n",
      "6     3    78    50    32    88  31.0  0.248   26      1\n",
      "7    10   115     0     0     0  35.3  0.134   29      0\n",
      "8     2   197    70    45   543  30.5  0.158   53      1\n",
      "9     8   125    96     0     0   0.0  0.232   54      1\n",
      "\n",
      "Normalized data:\n",
      " [[0.02 0.43 0.21 0.1  0.   0.1  0.   0.14 0.  ]\n",
      " [0.   0.36 0.28 0.12 0.   0.11 0.   0.13 0.  ]\n",
      " [0.03 0.59 0.21 0.   0.   0.07 0.   0.1  0.  ]]\n"
     ]
    }
   ],
   "source": [
    "import pandas as pd\n",
    "import numpy as np\n",
    "import matplotlib.pyplot as plt\n",
    "import sklearn.preprocessing as skpre\n",
    "##import sklearn.preprocessing.Normalizer as sskpre\n",
    "from sklearn.preprocessing import Normalizer\n",
    "\n",
    "path = r\"E:\\Master Telecom Engineering\\Machine Learning\\CSV\\pima-indians-diabetes.csv\"\n",
    "headernames = ['preg', 'plas', 'pres', 'skin', 'test', 'mass', 'pedi', 'age', 'class']\n",
    "data = pd.read_csv(path, names=headernames)\n",
    "\n",
    "######## convert dataframe into array\n",
    "array=data.values\n",
    "                        ####### L1\n",
    "Data_normalizer = Normalizer(norm='l1').fit(array)\n",
    "Data_normalized = Data_normalizer.transform(array)\n",
    "\n",
    "#next two lines affects return from pd\n",
    "pd.set_option('display.width',100)\n",
    "pd.set_option('precision',3)\n",
    "print(\"Before Scaling\\n\",data.head(10))\n",
    "np.set_printoptions(precision=2)\n",
    "print (\"\\nNormalized data:\\n\", Data_normalized [0:3])"
   ]
  },
  {
   "cell_type": "markdown",
   "metadata": {},
   "source": [
    "## Normalization \n",
    "L2"
   ]
  },
  {
   "cell_type": "code",
   "execution_count": 2,
   "metadata": {},
   "outputs": [
    {
     "name": "stdout",
     "output_type": "stream",
     "text": [
      "Before Scaling\n",
      "    preg  plas  pres  skin  test  mass   pedi  age  class\n",
      "0     6   148    72    35     0  33.6  0.627   50      1\n",
      "1     1    85    66    29     0  26.6  0.351   31      0\n",
      "2     8   183    64     0     0  23.3  0.672   32      1\n",
      "3     1    89    66    23    94  28.1  0.167   21      0\n",
      "4     0   137    40    35   168  43.1  2.288   33      1\n",
      "5     5   116    74     0     0  25.6  0.201   30      0\n",
      "6     3    78    50    32    88  31.0  0.248   26      1\n",
      "7    10   115     0     0     0  35.3  0.134   29      0\n",
      "8     2   197    70    45   543  30.5  0.158   53      1\n",
      "9     8   125    96     0     0   0.0  0.232   54      1\n",
      "\n",
      "Normalized data:\n",
      " [[0.03 0.83 0.4  0.2  0.   0.19 0.   0.28 0.01]\n",
      " [0.01 0.72 0.56 0.24 0.   0.22 0.   0.26 0.  ]\n",
      " [0.04 0.92 0.32 0.   0.   0.12 0.   0.16 0.01]]\n"
     ]
    }
   ],
   "source": [
    "import pandas as pd\n",
    "import numpy as np\n",
    "import matplotlib.pyplot as plt\n",
    "import sklearn.preprocessing as skpre\n",
    "##import sklearn.preprocessing.Normalizer as sskpre\n",
    "from sklearn.preprocessing import Normalizer\n",
    "\n",
    "path = r\"E:\\Master Telecom Engineering\\Machine Learning\\CSV\\pima-indians-diabetes.csv\"\n",
    "headernames = ['preg', 'plas', 'pres', 'skin', 'test', 'mass', 'pedi', 'age', 'class']\n",
    "data = pd.read_csv(path, names=headernames)\n",
    "\n",
    "######## convert dataframe into array\n",
    "array=data.values\n",
    "                        ####### L1\n",
    "Data_normalizer = Normalizer(norm='l2').fit(array)\n",
    "Data_normalized = Data_normalizer.transform(array)\n",
    "\n",
    "#next two lines affects return from pd\n",
    "pd.set_option('display.width',100)\n",
    "pd.set_option('precision',3)\n",
    "print(\"Before Scaling\\n\",data.head(10))\n",
    "np.set_printoptions(precision=2)\n",
    "print (\"\\nNormalized data:\\n\", Data_normalized [0:3])"
   ]
  },
  {
   "cell_type": "markdown",
   "metadata": {},
   "source": [
    "## Binarization"
   ]
  },
  {
   "cell_type": "code",
   "execution_count": 1,
   "metadata": {
    "scrolled": true
   },
   "outputs": [
    {
     "name": "stdout",
     "output_type": "stream",
     "text": [
      "Before Scaling\n",
      "    preg  plas  pres  skin  test  mass   pedi  age  class\n",
      "0     6   148    72    35     0  33.6  0.627   50      1\n",
      "1     1    85    66    29     0  26.6  0.351   31      0\n",
      "2     8   183    64     0     0  23.3  0.672   32      1\n",
      "3     1    89    66    23    94  28.1  0.167   21      0\n",
      "4     0   137    40    35   168  43.1  2.288   33      1\n",
      "5     5   116    74     0     0  25.6  0.201   30      0\n",
      "6     3    78    50    32    88  31.0  0.248   26      1\n",
      "7    10   115     0     0     0  35.3  0.134   29      0\n",
      "8     2   197    70    45   543  30.5  0.158   53      1\n",
      "9     8   125    96     0     0   0.0  0.232   54      1\n",
      "\n",
      "Binary data:\n",
      " [[1. 1. 1. 1. 0. 1. 1. 1. 1.]\n",
      " [1. 1. 1. 1. 0. 1. 0. 1. 0.]\n",
      " [1. 1. 1. 0. 0. 1. 1. 1. 1.]\n",
      " [1. 1. 1. 1. 1. 1. 0. 1. 0.]\n",
      " [0. 1. 1. 1. 1. 1. 1. 1. 1.]]\n"
     ]
    }
   ],
   "source": [
    "import pandas as pd\n",
    "import numpy as np\n",
    "import matplotlib.pyplot as plt\n",
    "\n",
    "##import sklearn.preprocessing.Binarizer as sskpre\n",
    "from sklearn.preprocessing import Binarizer\n",
    "\n",
    "path = r\"E:\\Master Telecom Engineering\\Machine Learning\\CSV\\pima-indians-diabetes.csv\"\n",
    "headernames = ['preg', 'plas', 'pres', 'skin', 'test', 'mass', 'pedi', 'age', 'class']\n",
    "data = pd.read_csv(path, names=headernames)\n",
    "\n",
    "######## convert dataframe into array\n",
    "array=data.values\n",
    "                        ####### L1\n",
    "binarizer = Binarizer(threshold=0.5).fit(array)\n",
    "Data_binarized = binarizer.transform(array)\n",
    "\n",
    "#next two lines affects return from pd\n",
    "pd.set_option('display.width',100)\n",
    "pd.set_option('precision',3)\n",
    "print(\"Before Scaling\\n\",data.head(10))\n",
    "np.set_printoptions(precision=2)\n",
    "print (\"\\nBinary data:\\n\", Data_binarized [0:5])"
   ]
  },
  {
   "cell_type": "markdown",
   "metadata": {},
   "source": [
    "## Standarizatiaon\n",
    "Mean=0 and Standarad deviation =1"
   ]
  },
  {
   "cell_type": "code",
   "execution_count": 4,
   "metadata": {},
   "outputs": [
    {
     "name": "stdout",
     "output_type": "stream",
     "text": [
      "Before Scaling\n",
      "    preg  plas  pres  skin  test  mass   pedi  age  class\n",
      "0     6   148    72    35     0  33.6  0.627   50      1\n",
      "1     1    85    66    29     0  26.6  0.351   31      0\n",
      "2     8   183    64     0     0  23.3  0.672   32      1\n",
      "3     1    89    66    23    94  28.1  0.167   21      0\n",
      "4     0   137    40    35   168  43.1  2.288   33      1\n",
      "5     5   116    74     0     0  25.6  0.201   30      0\n",
      "6     3    78    50    32    88  31.0  0.248   26      1\n",
      "7    10   115     0     0     0  35.3  0.134   29      0\n",
      "8     2   197    70    45   543  30.5  0.158   53      1\n",
      "9     8   125    96     0     0   0.0  0.232   54      1\n",
      "\n",
      "Rescaled data:\n",
      " [[ 0.64  0.85  0.15  0.91 -0.69  0.2   0.47  1.43  1.37]\n",
      " [-0.84 -1.12 -0.16  0.53 -0.69 -0.68 -0.37 -0.19 -0.73]\n",
      " [ 1.23  1.94 -0.26 -1.29 -0.69 -1.1   0.6  -0.11  1.37]\n",
      " [-0.84 -1.   -0.16  0.15  0.12 -0.49 -0.92 -1.04 -0.73]\n",
      " [-1.14  0.5  -1.5   0.91  0.77  1.41  5.48 -0.02  1.37]]\n"
     ]
    }
   ],
   "source": [
    "import pandas as pd\n",
    "import numpy as np\n",
    "import matplotlib.pyplot as plt\n",
    "import sklearn.preprocessing as skpre\n",
    "##import sklearn.preprocessing.Normalizer as sskpre\n",
    "from sklearn.preprocessing import StandardScaler\n",
    "\n",
    "path = r\"E:\\Master Telecom Engineering\\Machine Learning\\CSV\\pima-indians-diabetes.csv\"\n",
    "headernames = ['preg', 'plas', 'pres', 'skin', 'test', 'mass', 'pedi', 'age', 'class']\n",
    "data = pd.read_csv(path, names=headernames)\n",
    "\n",
    "######## convert dataframe into array\n",
    "array=data.values\n",
    "                        ####### L1\n",
    "data_scaler = StandardScaler().fit(array)\n",
    "data_rescaled = data_scaler.transform(array)\n",
    "\n",
    "#next two lines affects return from pd\n",
    "pd.set_option('display.width',100)\n",
    "pd.set_option('precision',3)\n",
    "print(\"Before Scaling\\n\",data.head(10))\n",
    "np.set_printoptions(precision=2)\n",
    "print (\"\\nRescaled data:\\n\", data_rescaled [0:5])"
   ]
  },
  {
   "cell_type": "markdown",
   "metadata": {},
   "source": [
    "## Data Labeling\n",
    "assume we have a symbol source A,B,C,D.....,J\n",
    "The classifier usally deals with numbers not a symbols\n",
    "so Data labeling is to convert Symbols (words) into Numerical values.\n",
    "\n",
    "###                            ___________\n",
    "###                           | Encoder       |___ Numbers\n",
    "### Symbols --------|________ ___|        \n",
    "###\n",
    "###                              ___________\n",
    "###                             | Decoder       |___ Symbols\n",
    "###  Numbers --------|___________|        \n"
   ]
  },
  {
   "cell_type": "code",
   "execution_count": 18,
   "metadata": {},
   "outputs": [
    {
     "name": "stdout",
     "output_type": "stream",
     "text": [
      "\n",
      "Labels = ['B', 'C', 'A', 'F', 'E', 'J', 'I', 'H', 'G', 'D']\n",
      "Encoded values = [1, 2, 0, 5, 4, 9, 8, 7, 6, 3]\n",
      "\n",
      "Labels = ['E', 'F', 'B']\n",
      "Encoded values = [4, 5, 1]\n",
      "\n",
      "Encoded values = [3, 0, 4, 1]\n",
      "\n",
      "Decoded labels = ['D', 'A', 'E', 'B']\n"
     ]
    }
   ],
   "source": [
    "import pandas as pd\n",
    "import numpy as np\n",
    "import matplotlib.pyplot as plt\n",
    "from sklearn import preprocessing\n",
    "##import sklearn.preprocessing.Normalizer as sskpre\n",
    "from sklearn.preprocessing import StandardScaler\n",
    "\n",
    "path = r\"E:\\Master Telecom Engineering\\Machine Learning\\CSV\\pima-indians-diabetes.csv\"\n",
    "headernames = ['preg', 'plas', 'pres', 'skin', 'test', 'mass', 'pedi', 'age', 'class']\n",
    "data = pd.read_csv(path, names=headernames)\n",
    "input_labels=['D','B','G','C','H','A','F','E','I','J']\n",
    "######## Pass input lables to be learnt by system\n",
    "## لاحظ يرتب الأسماء أبجديا ثم يعطي الأول 0 والثاني 1 وهكذا ....\n",
    "encoder = preprocessing.LabelEncoder()\n",
    "encoder.fit(input_labels)\n",
    "\n",
    "test_labels = ['B','C','A','F','E','J','I','H','G','D']\n",
    "# From Symbols into Numbers\n",
    "encoded_values = encoder.transform(test_labels)\n",
    "\n",
    "print(\"\\nLabels =\", test_labels)\n",
    "print(\"Encoded values =\", list(encoded_values))\n",
    "test_labels = ['E','F','B']\n",
    "encoded_values = encoder.transform(test_labels)\n",
    "print(\"\\nLabels =\", test_labels)\n",
    "print(\"Encoded values =\", list(encoded_values))\n",
    "\n",
    "# From Numbers into Symbols \n",
    "encoded_values = [3,0,4,1]\n",
    "decoded_list = encoder.inverse_transform(encoded_values)\n",
    "print(\"\\nEncoded values =\", encoded_values)\n",
    "print(\"\\nDecoded labels =\", list(decoded_list))\n",
    "\n",
    "\n"
   ]
  },
  {
   "cell_type": "markdown",
   "metadata": {},
   "source": [
    "## Data Feature Selection \n",
    "# Univariate Selection using Chi-square"
   ]
  },
  {
   "cell_type": "code",
   "execution_count": 95,
   "metadata": {
    "scrolled": true
   },
   "outputs": [
    {
     "name": "stdout",
     "output_type": "stream",
     "text": [
      "data Head\n",
      "    preg  plas  pres  skin  test  mass   pedi  age  class\n",
      "0     6   148    72    35     0  33.6  0.627   50      1\n",
      "1     1    85    66    29     0  26.6  0.351   31      0\n",
      "2     8   183    64     0     0  23.3  0.672   32      1\n",
      "3     1    89    66    23    94  28.1  0.167   21      0\n",
      "4     0   137    40    35   168  43.1  2.288   33      1\n",
      "fit.scores are \n",
      " [ 111.52 1411.89   17.61   53.11 2175.57  127.67    5.39  181.3 ]\n",
      "\n",
      "Featured data:\n",
      " [[148.    0.   33.6  50. ]\n",
      " [ 85.    0.   26.6  31. ]\n",
      " [183.    0.   23.3  32. ]\n",
      " [ 89.   94.   28.1  21. ]]\n",
      "Index of Max element from Numpy Array is  [4]\n"
     ]
    }
   ],
   "source": [
    "import pandas as pd\n",
    "import numpy as np\n",
    "import matplotlib.pyplot as plt\n",
    "from sklearn import preprocessing\n",
    "from numpy import set_printoptions\n",
    "from sklearn.feature_selection import chi2\n",
    "from sklearn.feature_selection import SelectKBest\n",
    "\n",
    "\n",
    "\n",
    "\n",
    "path = r\"E:\\Master Telecom Engineering\\Machine Learning\\CSV\\pima-indians-diabetes.csv\"\n",
    "headernames = ['preg', 'plas', 'pres', 'skin', 'test', 'mass', 'pedi', 'age', 'class']\n",
    "data = pd.read_csv(path, names=headernames)\n",
    "print(\"data Head\\n\",data.head())\n",
    "# convert from Dataframe into Numpy\n",
    "array = data.values\n",
    "\n",
    "#Next, we will separate array into input and output components:\n",
    "X = array[ :,   0:8]\n",
    "Y = array[ :,     8]\n",
    "\n",
    "#The following lines of code will select the best features from dataset:\n",
    "test = SelectKBest(score_func=chi2, k=4)\n",
    "fit = test.fit(X,Y)\n",
    "\n",
    "set_printoptions(precision=2)\n",
    "print(\"fit.scores are \\n\",fit.scores_)\n",
    "featured_data = fit.transform(X)\n",
    "print (\"\\nFeatured data:\\n\", featured_data[0:4])  # Display First Four Rows\n",
    "#Interpretation:\n",
    "\n",
    "#You can see the scores for each attribute and the 4 attributes chosen \n",
    "#(those with the highest scores): plas, test, mass, and age. \n",
    "#This scores will help you further in determining the best features for training your model.\n",
    "\n",
    "arr = np.array(fit.scores_)\n",
    "# Get the indices of maximum element in numpy array\n",
    "# Get the maximum element from a Numpy array\n",
    "maxElementindex = np.where(arr == np.amax(arr))\n",
    "print('Index of Max element from Numpy Array is ', maxElementindex[0])"
   ]
  },
  {
   "cell_type": "markdown",
   "metadata": {},
   "source": [
    "## Data Feature Selection \n",
    "# Recursive Feature Elimination"
   ]
  },
  {
   "cell_type": "code",
   "execution_count": 97,
   "metadata": {},
   "outputs": [
    {
     "name": "stdout",
     "output_type": "stream",
     "text": [
      "data Head\n",
      "    preg  plas  pres  skin  test  mass   pedi  age  class\n",
      "0     6   148    72    35     0  33.6  0.627   50      1\n",
      "1     1    85    66    29     0  26.6  0.351   31      0\n",
      "2     8   183    64     0     0  23.3  0.672   32      1\n",
      "3     1    89    66    23    94  28.1  0.167   21      0\n",
      "4     0   137    40    35   168  43.1  2.288   33      1\n"
     ]
    },
    {
     "name": "stderr",
     "output_type": "stream",
     "text": [
      "F:\\Users\\Ahmed Abdulwhhab\\miniconda3\\envs\\py3\\lib\\site-packages\\sklearn\\utils\\validation.py:67: FutureWarning: Pass n_features_to_select=3 as keyword args. From version 0.25 passing these as positional arguments will result in an error\n",
      "  warnings.warn(\"Pass {} as keyword args. From version 0.25 \"\n",
      "F:\\Users\\Ahmed Abdulwhhab\\miniconda3\\envs\\py3\\lib\\site-packages\\sklearn\\linear_model\\_logistic.py:762: ConvergenceWarning: lbfgs failed to converge (status=1):\n",
      "STOP: TOTAL NO. of ITERATIONS REACHED LIMIT.\n",
      "\n",
      "Increase the number of iterations (max_iter) or scale the data as shown in:\n",
      "    https://scikit-learn.org/stable/modules/preprocessing.html\n",
      "Please also refer to the documentation for alternative solver options:\n",
      "    https://scikit-learn.org/stable/modules/linear_model.html#logistic-regression\n",
      "  n_iter_i = _check_optimize_result(\n"
     ]
    },
    {
     "name": "stdout",
     "output_type": "stream",
     "text": [
      "Num Features: 3\n",
      "Selected Features: [ True False False False False  True  True False]\n",
      "Feature Ranking: [1 2 4 5 6 1 1 3]\n"
     ]
    }
   ],
   "source": [
    "# Import your necessary dependencies\n",
    "from sklearn.feature_selection import RFE\n",
    "from sklearn.linear_model import LogisticRegression\n",
    "\n",
    "import pandas as pd\n",
    "import numpy as np\n",
    "import matplotlib.pyplot as plt\n",
    "from sklearn import preprocessing\n",
    "from numpy import set_printoptions\n",
    "from sklearn.feature_selection import chi2\n",
    "from sklearn.feature_selection import SelectKBest\n",
    "\n",
    "\n",
    "\n",
    "\n",
    "path = r\"E:\\Master Telecom Engineering\\Machine Learning\\CSV\\pima-indians-diabetes.csv\"\n",
    "headernames = ['preg', 'plas', 'pres', 'skin', 'test', 'mass', 'pedi', 'age', 'class']\n",
    "data = pd.read_csv(path, names=headernames)\n",
    "print(\"data Head\\n\",data.head())\n",
    "# convert from Dataframe into Numpy\n",
    "array = data.values\n",
    "\n",
    "X = array[:,0:8]\n",
    "Y = array[:,8]\n",
    "\n",
    "# Feature extraction\n",
    "model = LogisticRegression()\n",
    "rfe = RFE(model, 3)\n",
    "fit = rfe.fit(X, Y)\n",
    "print(\"Num Features: %s\" % (fit.n_features_))\n",
    "print(\"Selected Features: %s\" % (fit.support_))\n",
    "print(\"Feature Ranking: %s\" % (fit.ranking_))\n",
    "\n"
   ]
  },
  {
   "cell_type": "markdown",
   "metadata": {},
   "source": [
    "## Ridge Regression"
   ]
  },
  {
   "cell_type": "code",
   "execution_count": 98,
   "metadata": {},
   "outputs": [
    {
     "name": "stdout",
     "output_type": "stream",
     "text": [
      "data Head\n",
      "    preg  plas  pres  skin  test  mass   pedi  age  class\n",
      "0     6   148    72    35     0  33.6  0.627   50      1\n",
      "1     1    85    66    29     0  26.6  0.351   31      0\n",
      "2     8   183    64     0     0  23.3  0.672   32      1\n",
      "3     1    89    66    23    94  28.1  0.167   21      0\n",
      "4     0   137    40    35   168  43.1  2.288   33      1\n",
      "Ridge model: 0.021 * X0 + 0.006 * X1 + -0.002 * X2 + 0.0 * X3 + -0.0 * X4 + 0.013 * X5 + 0.145 * X6 + 0.003 * X7\n"
     ]
    }
   ],
   "source": [
    "# First things first\n",
    "from sklearn.linear_model import Ridge\n",
    "# Import your necessary dependencies\n",
    "from sklearn.feature_selection import RFE\n",
    "from sklearn.linear_model import LogisticRegression\n",
    "\n",
    "import pandas as pd\n",
    "import numpy as np\n",
    "import matplotlib.pyplot as plt\n",
    "from sklearn import preprocessing\n",
    "from numpy import set_printoptions\n",
    "from sklearn.feature_selection import chi2\n",
    "from sklearn.feature_selection import SelectKBest\n",
    "\n",
    "\n",
    "\n",
    "\n",
    "path = r\"E:\\Master Telecom Engineering\\Machine Learning\\CSV\\pima-indians-diabetes.csv\"\n",
    "headernames = ['preg', 'plas', 'pres', 'skin', 'test', 'mass', 'pedi', 'age', 'class']\n",
    "data = pd.read_csv(path, names=headernames)\n",
    "print(\"data Head\\n\",data.head())\n",
    "# convert from Dataframe into Numpy\n",
    "array = data.values\n",
    "\n",
    "X = array[:,0:8]\n",
    "Y = array[:,8]\n",
    "\n",
    "# Feature extraction\n",
    "ridge = Ridge(alpha=1.0)\n",
    "ridge.fit(X,Y)\n",
    "Ridge(alpha=1.0, copy_X=True, fit_intercept=True, max_iter=None,\n",
    "   normalize=False, random_state=None, solver='auto', tol=0.001)\n",
    "\n",
    "# A helper method for pretty-printing the coefficients\n",
    "def pretty_print_coefs(coefs, names = None, sort = False):\n",
    "    if names == None:\n",
    "        names = [\"X%s\" % x for x in range(len(coefs))]\n",
    "    lst = zip(coefs, names)\n",
    "    if sort:\n",
    "        lst = sorted(lst,  key = lambda x:-np.abs(x[0]))\n",
    "    return \" + \".join(\"%s * %s\" % (round(coef, 3), name)\n",
    "                                   for coef, name in lst)\n",
    "print (\"Ridge model:\", pretty_print_coefs(ridge.coef_))"
   ]
  },
  {
   "cell_type": "markdown",
   "metadata": {},
   "source": [
    "## Principal component Analysis (PCA)"
   ]
  },
  {
   "cell_type": "code",
   "execution_count": 100,
   "metadata": {},
   "outputs": [
    {
     "name": "stdout",
     "output_type": "stream",
     "text": [
      "data Head\n",
      "    preg  plas  pres  skin  test  mass   pedi  age  class\n",
      "0     6   148    72    35     0  33.6  0.627   50      1\n",
      "1     1    85    66    29     0  26.6  0.351   31      0\n",
      "2     8   183    64     0     0  23.3  0.672   32      1\n",
      "3     1    89    66    23    94  28.1  0.167   21      0\n",
      "4     0   137    40    35   168  43.1  2.288   33      1\n",
      "Explained Variance: [0.89 0.06 0.03]\n",
      "[[-2.02e-03  9.78e-02  1.61e-02  6.08e-02  9.93e-01  1.40e-02  5.37e-04\n",
      "  -3.56e-03]\n",
      " [-2.26e-02 -9.72e-01 -1.42e-01  5.79e-02  9.46e-02 -4.70e-02 -8.17e-04\n",
      "  -1.40e-01]\n",
      " [-2.25e-02  1.43e-01 -9.22e-01 -3.07e-01  2.10e-02 -1.32e-01 -6.40e-04\n",
      "  -1.25e-01]]\n"
     ]
    }
   ],
   "source": [
    "# First things first\n",
    "from sklearn.linear_model import Ridge\n",
    "# Import your necessary dependencies\n",
    "from sklearn.feature_selection import RFE\n",
    "from sklearn.linear_model import LogisticRegression\n",
    "\n",
    "import pandas as pd\n",
    "import numpy as np\n",
    "import matplotlib.pyplot as plt\n",
    "from sklearn import preprocessing\n",
    "from numpy import set_printoptions\n",
    "from sklearn.feature_selection import chi2\n",
    "from sklearn.feature_selection import SelectKBest\n",
    "from sklearn.decomposition import PCA\n",
    "\n",
    "\n",
    "\n",
    "\n",
    "path = r\"E:\\Master Telecom Engineering\\Machine Learning\\CSV\\pima-indians-diabetes.csv\"\n",
    "headernames = ['preg', 'plas', 'pres', 'skin', 'test', 'mass', 'pedi', 'age', 'class']\n",
    "data = pd.read_csv(path, names=headernames)\n",
    "print(\"data Head\\n\",data.head())\n",
    "# convert from Dataframe into Numpy\n",
    "array = data.values\n",
    "\n",
    "X = array[:,0:8]\n",
    "Y = array[:,8]\n",
    "\n",
    "pca = PCA(n_components=3)\n",
    "fit = pca.fit(X)\n",
    "print(\"Explained Variance: %s\" % fit.explained_variance_ratio_)\n",
    "print(fit.components_)"
   ]
  },
  {
   "cell_type": "markdown",
   "metadata": {},
   "source": [
    "## Feature Importance\n"
   ]
  },
  {
   "cell_type": "code",
   "execution_count": 103,
   "metadata": {
    "scrolled": true
   },
   "outputs": [
    {
     "name": "stdout",
     "output_type": "stream",
     "text": [
      "data Head\n",
      "    preg  plas  pres  skin  test  mass   pedi  age  class\n",
      "0     6   148    72    35     0  33.6  0.627   50      1\n",
      "1     1    85    66    29     0  26.6  0.351   31      0\n",
      "2     8   183    64     0     0  23.3  0.672   32      1\n",
      "3     1    89    66    23    94  28.1  0.167   21      0\n",
      "4     0   137    40    35   168  43.1  2.288   33      1\n",
      "[0.11 0.23 0.1  0.08 0.08 0.15 0.12 0.14]\n"
     ]
    }
   ],
   "source": [
    "# First things first\n",
    "from sklearn.linear_model import Ridge\n",
    "# Import your necessary dependencies\n",
    "from sklearn.feature_selection import RFE\n",
    "from sklearn.linear_model import LogisticRegression\n",
    "\n",
    "import pandas as pd\n",
    "import numpy as np\n",
    "import matplotlib.pyplot as plt\n",
    "from sklearn import preprocessing\n",
    "from numpy import set_printoptions\n",
    "from sklearn.feature_selection import chi2\n",
    "from sklearn.feature_selection import SelectKBest\n",
    "from sklearn.decomposition import PCA\n",
    "from sklearn.ensemble import ExtraTreesClassifier\n",
    "\n",
    "\n",
    "\n",
    "path = r\"E:\\Master Telecom Engineering\\Machine Learning\\CSV\\pima-indians-diabetes.csv\"\n",
    "headernames = ['preg', 'plas', 'pres', 'skin', 'test', 'mass', 'pedi', 'age', 'class']\n",
    "data = pd.read_csv(path, names=headernames)\n",
    "print(\"data Head\\n\",data.head())\n",
    "# convert from Dataframe into Numpy\n",
    "array = data.values\n",
    "\n",
    "X = array[:,0:8]\n",
    "Y = array[:,8]\n",
    "model = ExtraTreesClassifier()\n",
    "model.fit(X, Y)\n",
    "print(model.feature_importances_.)\n"
   ]
  },
  {
   "cell_type": "markdown",
   "metadata": {},
   "source": [
    "## Building a Classifier in Python "
   ]
  },
  {
   "cell_type": "code",
   "execution_count": 225,
   "metadata": {
    "scrolled": false
   },
   "outputs": [
    {
     "name": "stdout",
     "output_type": "stream",
     "text": [
      "[1 0 0 ... 0 1 1]\n",
      "0.9414893617021277\n"
     ]
    }
   ],
   "source": [
    "from sklearn.datasets import load_breast_cancer\n",
    "from sklearn.model_selection import train_test_split\n",
    "import numpy as np\n",
    "\n",
    "\n",
    "data = load_breast_cancer()\n",
    "\n",
    "#print(\"data Head\\n\",data['feature_names'] )\n",
    "#print(data.keys())\n",
    "#print(data['filename'])\n",
    "#print(\"number of Rows in data['data'] is\", data['data'].shape[0])\n",
    "#print(\"number of Cols in data['data'] is\", data['data'].shape[1])\n",
    "#print(data['data'][0][0])\n",
    "#print(data['data'][568][29])\n",
    "#print(data['target'].shape)\n",
    "#print(data['target'][0])\n",
    "#print(data['target'][568])\n",
    "#print(data['target_names'].shape)\n",
    "#print(data['target_names'][0])\n",
    "#print(data['target_names'][1])\n",
    "#print(data['feature_names'].shape)\n",
    "#print(data['feature_names'][0:6])\n",
    "#print(data['feature_names'][1])\n",
    "\n",
    "#list(data.target_names)\n",
    "\n",
    "label_names = data['target_names']\n",
    "labels = data['target']\n",
    "feature_names = data['feature_names']\n",
    "features = data['data']\n",
    "\n",
    "#print(label_names)\n",
    "#print(feature_names[0])\n",
    "#print(feature_names[1])\n",
    "\n",
    "#print(features[0])\n",
    "\n",
    "#print(features[1])\n",
    "\n",
    "\n",
    "train, test, train_labels, test_labels = train_test_split(features,labels,test_size = 0.33, random_state = 42)\n",
    "###\n",
    "###print(train.shape)\n",
    "###print(train_labels.shape)\n",
    "##print(test_labels.shape)\n",
    "##print(train[0][0])\n",
    "##print(train_labels)\n",
    "##print(test_labels)\n",
    "\n",
    "\"\"\"\n",
    "ere are many machine learning models to choose from. All of them have their own \n",
    "advantages and disadvantages. For this model, we will be using the Naive Bayes \n",
    "algorithm that usually performs well in binary classification tasks. Firstly, \n",
    "import the GaussianNB module and initialize it using the GaussianNB() function. \n",
    "Then train the model by fitting it to the data in the dataset using the fit() method.\n",
    "\"\"\"\n",
    "# importing the module of the machine learning model \n",
    "from sklearn.naive_bayes import GaussianNB \n",
    "  \n",
    "# initializing the classifier \n",
    "gnb = GaussianNB() \n",
    "  \n",
    "# training the classifier \n",
    "#model = \n",
    "gnb.fit(train, train_labels)\n",
    "\n",
    "# making the predictions \n",
    "predictions = gnb.predict(test) \n",
    "  \n",
    "# printing the predictions \n",
    "print(predictions)\n",
    "\n",
    "\"\"\"\n",
    "Step 6 Accuracy\n",
    "\"\"\"\n",
    "# importing the accuracy measuring function \n",
    "from sklearn.metrics import accuracy_score \n",
    "  \n",
    "# evaluating the accuracy \n",
    "print(accuracy_score(test_labels, predictions)) \n",
    "\n",
    "\n"
   ]
  },
  {
   "cell_type": "markdown",
   "metadata": {},
   "source": [
    "## Logistic Regression Assumptions"
   ]
  },
  {
   "cell_type": "markdown",
   "metadata": {},
   "source": [
    "### https://www.datacamp.com/community/tutorials/understanding-logistic-regression-python"
   ]
  },
  {
   "cell_type": "code",
   "execution_count": 79,
   "metadata": {},
   "outputs": [
    {
     "name": "stderr",
     "output_type": "stream",
     "text": [
      "F:\\Users\\Ahmed Abdulwhhab\\miniconda3\\envs\\py3\\lib\\site-packages\\sklearn\\linear_model\\_logistic.py:762: ConvergenceWarning: lbfgs failed to converge (status=1):\n",
      "STOP: TOTAL NO. of ITERATIONS REACHED LIMIT.\n",
      "\n",
      "Increase the number of iterations (max_iter) or scale the data as shown in:\n",
      "    https://scikit-learn.org/stable/modules/preprocessing.html\n",
      "Please also refer to the documentation for alternative solver options:\n",
      "    https://scikit-learn.org/stable/modules/linear_model.html#logistic-regression\n",
      "  n_iter_i = _check_optimize_result(\n"
     ]
    },
    {
     "name": "stdout",
     "output_type": "stream",
     "text": [
      "[1 0 0 1 0 0 1 1 1 0 1 1 0 0 0 0 1 0 0 0 1 0 0 0 0 0 0 1 0 0 1 0 0 1 0 1 0\n",
      " 0 0 1 0 0 0 1 1 0 0 0 0 0 0 0 1 1 0 0 0 0 0 0 1 0 0 1 1 1 1 0 0 0 0 0 0 1\n",
      " 1 0 0 1 0 0 0 0 0 0 0 0 0 0 1 0 0 0 0 0 1 0 0 0 1 0 0 0 0 0 1 0 0 0 0 1 0\n",
      " 0 1 1 1 1 0 1 0 1 0 0 0 0 0 0 0 0 0 0 0 0 0 1 0 0 0 0 1 0 0 1 0 0 0 0 0 0\n",
      " 0 0 0 1 0 0 1 0 1 0 0 1 1 1 0 0 1 0 0 0 0 0 0 0 0 0 1 0 0 0 0 0 0 1 0 1 1\n",
      " 0 1 0 0 0 0 0]\n",
      "[1 0 0 1 0 0 1 1 0 0 1 1 0 0 0 0 1 0 0 0 1 1 0 0 0 0 0 0 0 0 0 0 0 0 0 1 1\n",
      " 0 0 0 0 0 0 1 1 0 0 1 1 1 0 0 1 0 0 0 0 1 1 1 1 0 0 1 1 1 1 0 0 0 0 0 0 0\n",
      " 1 0 0 0 0 0 0 0 0 0 0 0 1 0 1 0 0 0 0 0 0 0 1 0 1 1 0 0 0 0 0 1 0 0 0 1 0\n",
      " 1 1 1 1 1 0 0 0 1 0 0 0 0 0 0 0 1 0 0 0 0 0 1 0 1 0 1 1 0 0 0 0 0 1 0 0 0\n",
      " 0 1 0 1 0 0 1 0 0 0 1 1 1 1 0 0 0 1 0 0 0 0 0 0 1 1 0 0 0 0 0 0 1 1 0 1 1\n",
      " 0 1 1 1 0 0 0]\n",
      "[1 1 1 1 1 1 1 1 0 1 1 1 1 1 1 1 1 1 1 1 1 0 1 1 1 1 1 0 1 1 0 1 1 0 1 1 0\n",
      " 1 1 0 1 1 1 1 1 1 1 0 0 0 1 1 1 0 1 1 1 0 0 0 1 1 1 1 1 1 1 1 1 1 1 1 1 0\n",
      " 1 1 1 0 1 1 1 1 1 1 1 1 0 1 1 1 1 1 1 1 0 1 0 1 1 0 1 1 1 1 0 0 1 1 1 1 1\n",
      " 0 1 1 1 1 1 0 1 1 1 1 1 1 1 1 1 0 1 1 1 1 1 1 1 0 1 0 1 1 1 0 1 1 0 1 1 1\n",
      " 1 0 1 1 1 1 1 1 0 1 0 1 1 1 1 1 0 0 1 1 1 1 1 1 0 0 0 1 1 1 1 1 0 1 1 1 1\n",
      " 1 1 0 0 1 1 1]\n",
      "y_pred[8]=  1\n",
      "y_test[8]=  0\n",
      "cnf_matrix=\n",
      " [[115  15]\n",
      " [ 25  37]]\n",
      "Accuracy: 0.7916666666666666\n",
      "Precision: 0.7115384615384616\n",
      "Recall: 0.5967741935483871\n"
     ]
    },
    {
     "data": {
      "image/png": "[encoded data removed]",
      "text/plain": [
       "<Figure size 432x288 with 2 Axes>"
      ]
     },
     "metadata": {
      "needs_background": "light"
     },
     "output_type": "display_data"
    }
   ],
   "source": [
    "#import pandas\n",
    "import pandas as pd\n",
    "import numpy as np\n",
    "path = r\"E:\\Master Telecom Engineering\\Machine Learning\\CSV\\pima-indians-diabetes.csv\"\n",
    "\n",
    "col_names = ['pregnant', 'glucose', 'bp', 'skin', 'insulin', 'bmi', 'pedigree', 'age', 'label']\n",
    "# load dataset\n",
    "pima = pd.read_csv(path, header=None, names=col_names)\n",
    "feature_cols=['pregnant', 'glucose', 'bp', 'skin', 'insulin', 'bmi', 'pedigree', 'age']\n",
    "x=pima[feature_cols]\n",
    "             \n",
    "y=pima.label\n",
    "##Splitting Data\n",
    "# split X and y into training and testing sets\n",
    "from sklearn.model_selection import train_test_split\n",
    "X_train,X_test,y_train,y_test=train_test_split(x,y,test_size=0.25,random_state=0)\n",
    "\n",
    "#################Model Development and Prediction\n",
    "# import the class\n",
    "from sklearn.linear_model import LogisticRegression\n",
    "\n",
    "# instantiate the model (using the default parameters)\n",
    "\n",
    "logreg = LogisticRegression() #lr=0.1, num_iter=300000)\n",
    "\n",
    "# fit the model with data\n",
    "logreg.fit(X_train,y_train)\n",
    "\n",
    "#\n",
    "y_pred=logreg.predict(X_test)\n",
    "\n",
    "########################### Validation of Data by your print ###############\n",
    "\n",
    "print(y_pred)\n",
    "#print(y_test)                ### Not Good because it is series\n",
    "print(y_test.values)\n",
    "#print((y_pred==y_test.values))     ##   comparison as true/false result\n",
    "print((y_pred==y_test.values)*1)     ## comparison as 1/0 result (because i multiply by 1)\n",
    "print(\"y_pred[8]= \",y_pred[8])\n",
    "print(\"y_test[8]= \",y_test.values[8])\n",
    "\n",
    "\n",
    "########## Data Visualization\n",
    "import matplotlib.pyplot as plt\n",
    "import seaborn as sns\n",
    "# import the metrics class\n",
    "from sklearn import metrics\n",
    "\n",
    "%matplotlib inline\n",
    "\n",
    "class_names=[0,1] # name  of classes\n",
    "fig, ax = plt.subplots()\n",
    "tick_marks = np.arange(len(class_names))\n",
    "plt.xticks(tick_marks, class_names)\n",
    "plt.yticks(tick_marks, class_names)\n",
    "# create heatmap\n",
    "cnf_matrix = metrics.confusion_matrix(y_test, y_pred)\n",
    "sns.heatmap(pd.DataFrame(cnf_matrix), annot=True, cmap=\"YlGnBu\" ,fmt='g')\n",
    "ax.xaxis.set_label_position(\"top\")\n",
    "plt.tight_layout()\n",
    "plt.title('Confusion matrix', y=1.1)\n",
    "plt.ylabel('Actual label')\n",
    "plt.xlabel('Predicted label')\n",
    "print(\"cnf_matrix=\\n\",cnf_matrix)\n",
    "print(\"Accuracy:\",metrics.accuracy_score(y_test, y_pred))\n",
    "print(\"Precision:\",metrics.precision_score(y_test, y_pred))\n",
    "print(\"Recall:\",metrics.recall_score(y_test, y_pred))"
   ]
  },
  {
   "cell_type": "code",
   "execution_count": null,
   "metadata": {},
   "outputs": [],
   "source": [
    "\n"
   ]
  },
  {
   "cell_type": "markdown",
   "metadata": {},
   "source": [
    "##    ## Binary Logistic Regression model Page (73 of 167)"
   ]
  },
  {
   "cell_type": "code",
   "execution_count": 88,
   "metadata": {},
   "outputs": [
    {
     "ename": "SyntaxError",
     "evalue": "invalid syntax (<ipython-input-88-b7e4f8e64814>, line 10)",
     "output_type": "error",
     "traceback": [
      "\u001b[1;36m  File \u001b[1;32m\"<ipython-input-88-b7e4f8e64814>\"\u001b[1;36m, line \u001b[1;32m10\u001b[0m\n\u001b[1;33m    >>> from sklearn.linear_model import LogisticRegression\u001b[0m\n\u001b[1;37m    ^\u001b[0m\n\u001b[1;31mSyntaxError\u001b[0m\u001b[1;31m:\u001b[0m invalid syntax\n"
     ]
    }
   ],
   "source": [
    "import numpy as np\n",
    "import matplotlib.pyplot as plt\n",
    "import seaborn as sns\n",
    "from sklearn import datasets\n",
    "%matplotlib inline\n",
    "\n",
    "\n",
    "\n",
    "from sklearn.datasets import load_iris\n",
    ">>> from sklearn.linear_model import LogisticRegression\n",
    ">>> X, y = load_iris(return_X_y=True)\n",
    ">>> clf = LogisticRegression(random_state=0).fit(X, y)\n",
    ">>> clf.predict(X[:2, :])\n",
    ">>> clf.predict_proba(X[:2, :])\n",
    ">>> clf.score(X, y)\n",
    "\n",
    "\n",
    "\n",
    "iris = datasets.load_iris()\n",
    "X = iris.data[:, :2]\n",
    "#print (iris.keys())\n",
    "#print (iris['filename'])\n",
    "#print (\"(iris.target )  \\n\",(iris.target )  )\n",
    "y = (iris.target != 0) * 1\n",
    "#np.set_printoptions()\n",
    "#pd.set_option('display.width',1000)\n",
    "#pd.set_option('precision',2)\n",
    "#print(\"X.dtpye is \",X.dtype)\n",
    "\"\"\"\n",
    "print (\"X=\\n\",X.shape)\n",
    "print (\"y==0\\n\",y==0)\n",
    "print (\"X[y == 0][:, 0]\\n\",X[y == 0][:, 0])\n",
    "plt.figure(figsize=(14, 6))\n",
    "plt.scatter(X[y == 0][:, 0], X[y == 0][:, 1], color='g', label='0')\n",
    "plt.scatter(X[y == 1][:, 0], X[y == 1][:, 1], color='y', label='1')\n",
    "plt.legend();\n",
    "plt.show()\n",
    "\"\"\"\n",
    "################## Build Class #####################\n",
    "class LogisticRegression:\n",
    "    def __init__(self, lr=0.01, num_iter=100000, fit_intercept=True, verbose=False,theta=0.1):\n",
    "        self.lr = lr\n",
    "        self.num_iter = num_iter\n",
    "        self.fit_intercept = fit_intercept\n",
    "        self.verbose = verbose\n",
    "        self.theta=theta\n",
    "    def __add_intercept(self, X):\n",
    "        intercept = np.ones((X.shape[0], 1))\n",
    "        return np.concatenate((intercept, X), axis=1)\n",
    "    def __sigmoid(self, z):\n",
    "        return 1 / (1 + np.exp(-z))\n",
    "    def __loss(self, h, y):\n",
    "        return (-y * np.log(h) - (1 - y) * np.log(1 - h)).mean()\n",
    "    def fit(self, X, y):\n",
    "        if self.fit_intercept:\n",
    "            X = self.__add_intercept(X)\n",
    "        self.theta = np.zeros(X.shape[1])\n",
    "        for i in range(self.num_iter):\n",
    "            z = np.dot(X, self.theta)\n",
    "            h = self.__sigmoid(z)\n",
    "            gradient = np.dot(X.T, (h - y)) / y.size\n",
    "            self.theta -= self.lr * gradient\n",
    "            z = np.dot(X, self.theta)\n",
    "            h = self.__sigmoid(z)\n",
    "            loss = self.__loss(h, y)\n",
    "            if(self.verbose ==True and i % 10000 == 0):\n",
    "                print(f'loss: {loss} \\t')\n",
    "    def predict_prob(self, X):\n",
    "        if self.fit_intercept:\n",
    "            X = self.__add_intercept(X)\n",
    "        return self.__sigmoid(np.dot(X, self.theta))\n",
    "    def predict(self, X):\n",
    "        return self.predict_prob(X).round()\n",
    "###############################################\n",
    "\n",
    "model = LogisticRegression(lr=0.1, num_iter=300000)\n",
    "preds = model.predict(X)\n",
    "#(preds == y).mean()\n",
    "plt.figure(figsize=(10, 6))\n",
    "plt.scatter(X[y == 0][:, 0], X[y == 0][:, 1], color='g', label='0')\n",
    "plt.scatter(X[y == 1][:, 0], X[y == 1][:, 1], color='y', label='1')\n",
    "plt.legend()\n",
    "x1_min, x1_max = X[:,0].min(), X[:,0].max(),\n",
    "x2_min, x2_max = X[:,1].min(), X[:,1].max(),\n",
    "xx1, xx2 = np.meshgrid(np.linspace(x1_min, x1_max), np.linspace(x2_min, x2_max))\n",
    "grid = np.c_[xx1.ravel(), xx2.ravel()]\n",
    "probs = model.predict_prob(grid).reshape(xx1.shape)\n",
    "plt.contour(xx1, xx2, probs, [0.5], linewidths=1, colors='red');"
   ]
  },
  {
   "cell_type": "code",
   "execution_count": 38,
   "metadata": {},
   "outputs": [
    {
     "name": "stdout",
     "output_type": "stream",
     "text": [
      "y_test= \n",
      " [2 1 0 2 0 2 0 1 1 1 2 1 1 1 1 0 1 1 0 0 2 1 0 0 2 0 0 1 1 0 2 1 0 2 2 1 0\n",
      " 1 1 1 2 0 2 0 0 1 2 2 2 2 1 2 1 1 2 2 2 2 1 2 1 0 2 1 1 1 1 2 0 0 2 1 0 0\n",
      " 1 0 2 1 0 1 2 1 0 2 2 2 2 0 0 2 2 0 2 0 2 2 0 0 2 0 0 0 1 2 2]\n",
      "y_pred= \n",
      " [2 1 0 2 0 2 0 1 1 1 1 1 1 1 1 0 1 1 0 0 1 1 0 0 1 0 0 1 1 0 2 1 0 1 2 1 0\n",
      " 1 1 1 2 0 2 0 0 1 2 2 1 2 1 2 1 1 1 1 1 1 1 2 1 0 2 1 1 1 1 2 0 0 2 1 0 0\n",
      " 1 0 2 1 0 1 2 1 0 2 2 2 2 0 0 2 2 0 2 0 1 2 0 0 2 0 0 0 1 2 2]\n",
      "(y_pred==y_test)*1 \n",
      " [1 1 1 1 1 1 1 1 1 1 0 1 1 1 1 1 1 1 1 1 0 1 1 1 0 1 1 1 1 1 1 1 1 0 1 1 1\n",
      " 1 1 1 1 1 1 1 1 1 1 1 0 1 1 1 1 1 0 0 0 0 1 1 1 1 1 1 1 1 1 1 1 1 1 1 1 1\n",
      " 1 1 1 1 1 1 1 1 1 1 1 1 1 1 1 1 1 1 1 1 0 1 1 1 1 1 1 1 1 1 1]\n",
      "y_pred[10]=  1\n",
      "y_test[10]=  2\n",
      "cnf_matrix=\n",
      " [[33  0  0]\n",
      " [ 0 34  0]\n",
      " [ 0 10 28]]\n",
      "Accuracy: 0.9047619047619048\n"
     ]
    }
   ],
   "source": [
    "import numpy as np\n",
    "import matplotlib.pyplot as plt\n",
    "import seaborn as sns\n",
    "from sklearn import datasets\n",
    "%matplotlib inline\n",
    "\n",
    "#from sklearn.datasets import load_iris\n",
    "from sklearn.linear_model import LogisticRegression\n",
    "X, y = datasets.load_iris(return_X_y=True)\n",
    "\n",
    "##Splitting Data\n",
    "# split X and y into training and testing sets\n",
    "from sklearn.model_selection import train_test_split\n",
    "X_train,X_test,y_train,y_test=train_test_split(X, y,test_size=0.7,random_state=0)\n",
    "\n",
    "\n",
    "clf = LogisticRegression(random_state=0).fit(X_train, y_train)\n",
    "y_pred=clf.predict(X_test) #[:2, :])\n",
    "clf.predict_proba(X_test) #[:2, :])\n",
    "clf.score(X_test, y_test)\n",
    "\n",
    "########################### Validation of Data by your print ###############\n",
    "\n",
    "print(\"y_test= \\n\", y_test)\n",
    "print(\"y_pred= \\n\", y_pred)\n",
    "\n",
    "#print((y_pred==y_test.values))     ##   comparison as true/false result\n",
    "print(\"(y_pred==y_test)*1 \\n\",(y_pred==y_test)*1)     ## comparison as 1/0 result (because i multiply by 1)\n",
    "print(\"y_pred[10]= \",y_pred[10])\n",
    "print(\"y_test[10]= \",y_test[10])\n",
    "\n",
    "\n",
    "########## Data Visualization\n",
    "import matplotlib.pyplot as plt\n",
    "import seaborn as sns\n",
    "# import the metrics class\n",
    "from sklearn import metrics\n",
    "\n",
    "%matplotlib inline\n",
    "\n",
    "\n",
    "\n",
    "cnf_matrix = metrics.confusion_matrix(y_test, y_pred)\n",
    "\n",
    "print(\"cnf_matrix=\\n\",cnf_matrix)\n",
    "print(\"Accuracy:\",metrics.accuracy_score(y_test, y_pred))\n",
    "#print(\"Precision:\",metrics.precision_score(y_test, y_pred))\n",
    "#print(\"Recall:\",metrics.recall_score(y_test, y_pred))"
   ]
  },
  {
   "cell_type": "markdown",
   "metadata": {},
   "source": [
    "# Multinomial Logistic Regression Model Page 77 of 167"
   ]
  },
  {
   "cell_type": "code",
   "execution_count": 98,
   "metadata": {},
   "outputs": [
    {
     "name": "stdout",
     "output_type": "stream",
     "text": [
      "   y_test  y_pred\n",
      "0       1       1\n",
      "1       5       5\n",
      "2       0       0\n",
      "3       7       7\n",
      "4       1       1\n",
      "Predicted   0   1   2   3   4   5   6   7   8   9\n",
      "Actual                                           \n",
      "0          73   0   1   0   0   0   0   0   0   0\n",
      "1           0  65   0   0   1   0   1   0   1   0\n",
      "2           0   0  68   0   0   0   0   0   0   0\n",
      "3           0   0   0  80   0   0   0   0   2   1\n",
      "4           0   2   0   0  77   0   0   0   0   0\n",
      "5           0   1   1   0   0  60   2   0   0   1\n",
      "6           0   1   0   0   0   0  69   0   0   0\n",
      "7           0   1   0   0   1   0   0  71   0   1\n",
      "8           0   1   0   0   0   1   0   0  60   0\n",
      "9           0   1   0   0   0   1   0   0   3  71\n",
      "sum(0 for val in Actual if val==0) 74\n",
      "sum(0 for val in y_pred if val==0) 73\n",
      "sum(1 for val in Actual if val==1) 68\n",
      "sum(1 for val in y_pred if val==1) 72\n",
      "sum(2 for val in Actual if val==2) 68\n",
      "sum(2 for val in y_pred if val==2) 70\n",
      "sum(3 for val in Actual if val==3) 83\n",
      "sum(3 for val in y_pred if val==3) 80\n",
      "sum(4 for val in Actual if val==4) 79\n",
      "sum(4 for val in y_pred if val==4) 79\n",
      "y_test= \n",
      " [1 5 0 7 1 0 6 1 5 4 9 2 7 8 4 6 9 3 7 4 7 1 8 6 0 9 6 1 3 7 5 9 8 3 2 8 8\n",
      " 1 1 0 7 9 0 0 8 7 2 7 4 3 4 3 4 0 4 7 0 5 5 5 2 1 7 0 5 1 8 3 3 4 0 3 7 4\n",
      " 3 4 2 9 7 3 2 5 3 4 1 5 5 2 5 2 2 2 2 7 0 8 1 7 4 2 3 8 2 3 3 0 2 9 9 2 3\n",
      " 2 8 1 1 9 1 2 0 4 8 5 4 4 7 6 7 6 6 1 7 5 6 3 8 3 7 1 8 5 3 4 7 8 5 0 6 0\n",
      " 6 3 7 6 5 6 2 2 2 3 0 7 6 5 6 4 1 0 6 0 6 4 0 9 3 8 1 2 3 1 9 0 7 6 2 9 3\n",
      " 5 3 4 6 3 3 7 4 9 2 7 6 1 6 8 4 0 3 1 0 9 9 9 0 1 8 6 8 0 9 5 9 8 2 3 5 3\n",
      " 0 8 7 4 0 3 3 3 6 3 3 2 9 1 6 9 0 4 2 2 7 9 1 6 7 6 3 7 1 9 3 4 0 6 4 8 5\n",
      " 3 6 3 1 4 0 4 4 8 7 9 1 5 2 7 0 9 0 4 4 0 1 0 6 4 2 8 5 0 2 6 0 1 8 2 0 9\n",
      " 5 6 2 0 5 0 9 1 4 7 1 7 0 6 6 8 0 2 2 6 9 9 7 5 1 7 6 4 6 1 9 4 7 1 3 7 8\n",
      " 1 6 9 8 3 2 4 8 7 5 5 6 9 9 8 5 0 0 4 9 3 0 4 9 4 2 5 4 9 6 4 2 6 0 0 5 6\n",
      " 7 1 9 2 5 1 5 9 8 7 7 0 6 9 3 1 9 3 9 8 7 0 2 3 5 9 2 8 1 9 3 3 0 0 7 3 8\n",
      " 7 9 9 7 1 0 4 5 4 1 7 3 6 5 4 9 0 5 9 1 4 5 0 4 3 4 2 3 9 0 8 7 8 6 9 4 5\n",
      " 7 8 3 7 8 3 2 6 6 7 1 0 8 4 8 9 5 4 1 2 5 3 3 3 5 1 8 7 6 2 3 6 2 5 2 6 4\n",
      " 5 4 4 9 7 9 4 0 2 6 9 3 6 7 3 6 4 7 8 4 1 2 1 1 0 7 3 0 3 2 9 4 5 9 9 4 8\n",
      " 3 3 3 8 4 8 4 5 8 3 9 5 4 7 7 4 0 1 7 9 8 0 9 6 0 9 8 1 3 1 4 6 5 1 9 0 1\n",
      " 5 2 5 0 2 5 4 7 2 2 3 2 1 8 4 9 6 3 7 1 1 9 8 8 1 8 5 9 1 7 1 2 7 9 7 4 3\n",
      " 4 0 1 9 0 7 3 4 9 1 5 4 0 3 4 3 8 9 7 9 4 7 5 9 1 0 2 2 9 2 5 8 7 4 7 9 8\n",
      " 2 7 0 4 3 2 3 5 7 9 6 1 8 6 7 2 8 3 4 9 0 6 5 4 5 3 5 3 5 6 1 6 4 0 6 8 6\n",
      " 7 3 9 8 5 8 2 5 8 4 0 6 8 2 4 3 0 5 3 0 7 5 6 6 2 2 3 2 6 6 4 1 5 0 6 9 0\n",
      " 2 6 3 2 6 8 7 3 1 7 4 3 1 9 6 1]\n",
      "y_pred= \n",
      " [1 5 0 7 1 0 6 1 5 4 9 2 7 8 4 6 9 3 7 4 7 4 8 6 0 9 6 1 3 7 5 9 8 3 2 8 8\n",
      " 1 1 0 7 9 0 0 8 7 2 7 4 3 4 3 4 0 4 7 0 5 5 5 2 1 7 0 5 1 8 3 3 4 0 3 7 4\n",
      " 3 4 2 9 7 3 2 5 3 4 1 5 5 2 1 2 2 2 2 7 0 8 1 7 4 2 3 8 2 3 3 0 2 9 5 2 3\n",
      " 2 8 1 1 9 1 2 0 1 8 5 4 4 7 6 7 6 6 1 7 5 6 3 8 3 7 1 8 5 3 4 7 8 5 0 6 0\n",
      " 6 3 7 6 5 6 2 2 2 3 0 7 6 5 6 4 1 0 6 0 6 4 0 9 3 5 1 2 3 1 9 0 7 6 2 9 3\n",
      " 5 3 4 6 3 3 7 4 9 2 7 6 1 6 8 4 0 3 1 0 9 9 9 0 1 8 6 8 0 9 5 9 8 2 3 5 3\n",
      " 0 8 7 4 0 3 3 3 6 3 3 2 9 1 6 9 0 4 2 2 7 9 1 6 7 6 3 9 1 8 3 4 0 6 4 8 5\n",
      " 3 6 3 1 4 0 4 4 8 7 9 1 5 2 7 0 9 0 4 4 0 1 0 6 4 2 8 5 0 2 6 0 1 8 2 0 9\n",
      " 5 6 2 0 5 0 9 1 4 7 1 7 0 6 6 8 0 2 2 6 9 9 7 5 1 4 6 4 6 1 9 4 7 1 3 7 8\n",
      " 1 6 9 8 3 2 4 8 7 5 5 6 9 9 8 5 0 0 4 9 3 0 4 9 4 2 5 4 9 6 4 2 6 0 0 5 6\n",
      " 7 1 9 2 5 1 5 9 8 7 7 0 6 9 3 1 9 3 9 8 7 0 2 3 9 9 2 8 1 9 8 3 0 0 7 3 8\n",
      " 7 9 9 7 1 2 4 5 4 1 7 3 6 5 4 9 0 5 9 1 4 5 0 4 3 4 2 3 9 0 8 7 8 6 9 4 5\n",
      " 7 8 3 7 8 3 2 6 6 7 1 0 8 4 8 9 5 4 8 2 5 3 3 3 2 1 8 7 6 2 3 6 2 5 2 6 4\n",
      " 5 4 4 9 7 9 1 0 2 6 9 3 6 7 3 6 4 7 8 4 1 2 1 1 0 7 3 0 3 2 9 4 5 9 9 4 8\n",
      " 3 3 3 8 4 8 4 5 8 3 9 5 4 7 7 4 0 1 7 9 8 0 8 6 0 9 8 6 3 1 4 6 5 1 9 0 1\n",
      " 5 2 5 0 2 5 4 7 2 2 3 2 1 8 4 9 6 3 7 1 1 1 8 8 1 8 5 9 1 7 1 2 7 9 7 4 8\n",
      " 4 0 1 9 0 7 3 4 9 1 5 4 0 3 4 3 8 9 7 9 4 7 5 9 1 0 2 2 9 2 5 8 7 4 7 9 8\n",
      " 2 7 0 4 3 2 9 5 7 9 6 1 1 6 7 2 8 3 4 8 0 6 5 4 5 3 5 3 5 6 1 6 4 0 6 8 1\n",
      " 7 3 9 8 5 8 2 5 8 4 0 6 8 2 4 3 0 6 3 0 7 6 6 6 2 2 3 2 6 6 4 1 5 0 6 9 0\n",
      " 2 6 3 2 6 8 1 3 1 7 4 3 1 9 6 1]\n",
      "(y_pred==y_test)*1 \n",
      " [1 1 1 1 1 1 1 1 1 1 1 1 1 1 1 1 1 1 1 1 1 0 1 1 1 1 1 1 1 1 1 1 1 1 1 1 1\n",
      " 1 1 1 1 1 1 1 1 1 1 1 1 1 1 1 1 1 1 1 1 1 1 1 1 1 1 1 1 1 1 1 1 1 1 1 1 1\n",
      " 1 1 1 1 1 1 1 1 1 1 1 1 1 1 0 1 1 1 1 1 1 1 1 1 1 1 1 1 1 1 1 1 1 1 0 1 1\n",
      " 1 1 1 1 1 1 1 1 0 1 1 1 1 1 1 1 1 1 1 1 1 1 1 1 1 1 1 1 1 1 1 1 1 1 1 1 1\n",
      " 1 1 1 1 1 1 1 1 1 1 1 1 1 1 1 1 1 1 1 1 1 1 1 1 1 0 1 1 1 1 1 1 1 1 1 1 1\n",
      " 1 1 1 1 1 1 1 1 1 1 1 1 1 1 1 1 1 1 1 1 1 1 1 1 1 1 1 1 1 1 1 1 1 1 1 1 1\n",
      " 1 1 1 1 1 1 1 1 1 1 1 1 1 1 1 1 1 1 1 1 1 1 1 1 1 1 1 0 1 0 1 1 1 1 1 1 1\n",
      " 1 1 1 1 1 1 1 1 1 1 1 1 1 1 1 1 1 1 1 1 1 1 1 1 1 1 1 1 1 1 1 1 1 1 1 1 1\n",
      " 1 1 1 1 1 1 1 1 1 1 1 1 1 1 1 1 1 1 1 1 1 1 1 1 1 0 1 1 1 1 1 1 1 1 1 1 1\n",
      " 1 1 1 1 1 1 1 1 1 1 1 1 1 1 1 1 1 1 1 1 1 1 1 1 1 1 1 1 1 1 1 1 1 1 1 1 1\n",
      " 1 1 1 1 1 1 1 1 1 1 1 1 1 1 1 1 1 1 1 1 1 1 1 1 0 1 1 1 1 1 0 1 1 1 1 1 1\n",
      " 1 1 1 1 1 0 1 1 1 1 1 1 1 1 1 1 1 1 1 1 1 1 1 1 1 1 1 1 1 1 1 1 1 1 1 1 1\n",
      " 1 1 1 1 1 1 1 1 1 1 1 1 1 1 1 1 1 1 0 1 1 1 1 1 0 1 1 1 1 1 1 1 1 1 1 1 1\n",
      " 1 1 1 1 1 1 0 1 1 1 1 1 1 1 1 1 1 1 1 1 1 1 1 1 1 1 1 1 1 1 1 1 1 1 1 1 1\n",
      " 1 1 1 1 1 1 1 1 1 1 1 1 1 1 1 1 1 1 1 1 1 1 0 1 1 1 1 0 1 1 1 1 1 1 1 1 1\n",
      " 1 1 1 1 1 1 1 1 1 1 1 1 1 1 1 1 1 1 1 1 1 0 1 1 1 1 1 1 1 1 1 1 1 1 1 1 0\n",
      " 1 1 1 1 1 1 1 1 1 1 1 1 1 1 1 1 1 1 1 1 1 1 1 1 1 1 1 1 1 1 1 1 1 1 1 1 1\n",
      " 1 1 1 1 1 1 0 1 1 1 1 1 0 1 1 1 1 1 1 0 1 1 1 1 1 1 1 1 1 1 1 1 1 1 1 1 0\n",
      " 1 1 1 1 1 1 1 1 1 1 1 1 1 1 1 1 1 0 1 1 1 0 1 1 1 1 1 1 1 1 1 1 1 1 1 1 1\n",
      " 1 1 1 1 1 1 0 1 1 1 1 1 1 1 1 1]\n",
      "y_pred[21]=  4\n",
      "y_test[21]=  1\n",
      "Accuracy of Logistic Regression model is: 96.52294853963839\n"
     ]
    },
    {
     "name": "stderr",
     "output_type": "stream",
     "text": [
      "F:\\Users\\Ahmed Abdulwhhab\\miniconda3\\envs\\py3\\lib\\site-packages\\sklearn\\linear_model\\_logistic.py:762: ConvergenceWarning: lbfgs failed to converge (status=1):\n",
      "STOP: TOTAL NO. of ITERATIONS REACHED LIMIT.\n",
      "\n",
      "Increase the number of iterations (max_iter) or scale the data as shown in:\n",
      "    https://scikit-learn.org/stable/modules/preprocessing.html\n",
      "Please also refer to the documentation for alternative solver options:\n",
      "    https://scikit-learn.org/stable/modules/linear_model.html#logistic-regression\n",
      "  n_iter_i = _check_optimize_result(\n"
     ]
    }
   ],
   "source": [
    "import sklearn\n",
    "from sklearn import datasets\n",
    "from sklearn import linear_model\n",
    "from sklearn import metrics\n",
    "from sklearn.model_selection import train_test_split\n",
    "\n",
    "digits = datasets.load_digits()\n",
    "\n",
    "#print(digits.keys())\n",
    "#digits.data\n",
    "x=digits.data\n",
    "y=digits.target\n",
    "\n",
    "\n",
    "########## Split Data into Test and Train\n",
    "X_train, X_test, y_train, y_test = train_test_split(x, y, test_size=0.4, random_state=1)\n",
    "\n",
    "digreg = linear_model.LogisticRegression()\n",
    "digreg.fit(X_train, y_train)\n",
    "\n",
    "\n",
    "y_pred = digreg.predict(X_test)\n",
    "\n",
    "\n",
    "########################### Validation of Data by your print ###############\n",
    "### Convert Result and Test Targets into DataFrame object\n",
    "import pandas as pd\n",
    "\n",
    "data = {'y_test':    y_test,\n",
    "        'y_pred':    y_pred\n",
    "        }\n",
    "\n",
    "df = pd.DataFrame(data, columns=['y_test','y_pred'])\n",
    "print (df.head(5))\n",
    "confusion_matrix = pd.crosstab(df['y_test'], df['y_pred'], rownames=['Actual'], colnames=['Predicted'])\n",
    "print (confusion_matrix)\n",
    "\n",
    "\n",
    "\n",
    "print(\"sum(0 for val in Actual if val==0)\",sum(1 for val in y_test if val==0))\n",
    "print(\"sum(0 for val in y_pred if val==0)\",sum(1 for val in y_pred if val==0))\n",
    "print(\"sum(1 for val in Actual if val==1)\",sum(1 for val in y_test if val==1))\n",
    "print(\"sum(1 for val in y_pred if val==1)\",sum(1 for val in y_pred if val==1))\n",
    "print(\"sum(2 for val in Actual if val==2)\",sum(1 for val in y_test if val==2))\n",
    "print(\"sum(2 for val in y_pred if val==2)\",sum(1 for val in y_pred if val==2))\n",
    "print(\"sum(3 for val in Actual if val==3)\",sum(1 for val in y_test if val==3))\n",
    "print(\"sum(3 for val in y_pred if val==3)\",sum(1 for val in y_pred if val==3))\n",
    "print(\"sum(4 for val in Actual if val==4)\",sum(1 for val in y_test if val==4))\n",
    "print(\"sum(4 for val in y_pred if val==4)\",sum(1 for val in y_pred if val==4))\n",
    "\n",
    "\n",
    "print(\"y_test= \\n\", y_test)\n",
    "print(\"y_pred= \\n\", y_pred)\n",
    "\n",
    "#print((y_pred==y_test.values))     ##   comparison as true/false result\n",
    "print(\"(y_pred==y_test)*1 \\n\",(y_pred==y_test)*1)     ## comparison as 1/0 result (because i multiply by 1)\n",
    "print(\"y_pred[21]= \",y_pred[21])\n",
    "print(\"y_test[21]= \",y_test[21])\n",
    "\n",
    "\n",
    "########## Data Visualization\n",
    "import matplotlib.pyplot as plt\n",
    "import seaborn as sns\n",
    "# import the metrics class\n",
    "from sklearn import metrics\n",
    "\n",
    "%matplotlib inline\n",
    "\n",
    "\n",
    "\n",
    "\n",
    "\n",
    "#print(\"Precision:\",metrics.precision_score(y_test, y_pred))\n",
    "#print(\"Recall:\",metrics.recall_score(y_test, y_pred))\n",
    "print(\"Accuracy of Logistic Regression model is:\",\n",
    "metrics.accuracy_score(y_test, y_pred)*100)\n",
    "\n"
   ]
  },
  {
   "cell_type": "markdown",
   "metadata": {},
   "source": [
    "## Support vector machines (SVMs)"
   ]
  },
  {
   "cell_type": "code",
   "execution_count": 156,
   "metadata": {},
   "outputs": [
    {
     "data": {
      "image/png": "[encoded data removed]",
      "text/plain": [
       "<Figure size 432x288 with 1 Axes>"
      ]
     },
     "metadata": {},
     "output_type": "display_data"
    },
    {
     "name": "stderr",
     "output_type": "stream",
     "text": [
      "<ipython-input-156-fb9fbf1331ce>:50: UserWarning: No contour levels were found within the data range.\n",
      "  ax.contour(X, Y, P, colors='k',\n"
     ]
    },
    {
     "ename": "NameError",
     "evalue": "name 'plot_support' is not defined",
     "output_type": "error",
     "traceback": [
      "\u001b[1;31m---------------------------------------------------------------------------\u001b[0m",
      "\u001b[1;31mNameError\u001b[0m                                 Traceback (most recent call last)",
      "\u001b[1;32m<ipython-input-156-fb9fbf1331ce>\u001b[0m in \u001b[0;36m<module>\u001b[1;34m\u001b[0m\n\u001b[0;32m     52\u001b[0m linestyles=['--', '-', '--'])\n\u001b[0;32m     53\u001b[0m \u001b[1;33m\u001b[0m\u001b[0m\n\u001b[1;32m---> 54\u001b[1;33m \u001b[1;32mif\u001b[0m \u001b[0mplot_support\u001b[0m\u001b[1;33m:\u001b[0m\u001b[1;33m\u001b[0m\u001b[1;33m\u001b[0m\u001b[0m\n\u001b[0m\u001b[0;32m     55\u001b[0m     ax.scatter(model.support_vectors_[:, 0],\n\u001b[0;32m     56\u001b[0m             \u001b[0mmodel\u001b[0m\u001b[1;33m.\u001b[0m\u001b[0msupport_vectors_\u001b[0m\u001b[1;33m[\u001b[0m\u001b[1;33m:\u001b[0m\u001b[1;33m,\u001b[0m \u001b[1;36m1\u001b[0m\u001b[1;33m]\u001b[0m\u001b[1;33m,\u001b[0m\u001b[1;33m\u001b[0m\u001b[1;33m\u001b[0m\u001b[0m\n",
      "\u001b[1;31mNameError\u001b[0m: name 'plot_support' is not defined"
     ]
    },
    {
     "data": {
      "image/png": "[encoded data removed]",
      "text/plain": [
       "<Figure size 432x288 with 1 Axes>"
      ]
     },
     "metadata": {},
     "output_type": "display_data"
    }
   ],
   "source": [
    "import numpy as np\n",
    "import matplotlib.pyplot as plt\n",
    "from scipy import stats\n",
    "import seaborn as sns; \n",
    "sns.set()\n",
    "from sklearn.datasets.samples_generator import make_blobs\n",
    "X, y = make_blobs(n_samples=100, centers=2,random_state=0, cluster_std=0.50)\n",
    "#print (\"X=\\n\",X)\n",
    "plt.scatter(X[:, 0], X[:, 1], c=y, s=50, cmap='summer');\n",
    "#plt.show()\n",
    "xfit = np.linspace(-1, 3.5)\n",
    "plt.scatter(X[:, 0], X[:, 1], c=y, s=50, cmap='summer')\n",
    "#plt.show()\n",
    "plt.plot([0.6], [2.1], 'x', color='black', markeredgewidth=4, markersize=12)\n",
    "for m, b in [(1, 0.65), (0.5, 1.6), (-0.2, 2.9)]:\n",
    "    plt.plot(xfit, m * xfit + b, '-k')\n",
    "plt.xlim(-1, 3.5);\n",
    "plt.show()\n",
    "\n",
    "xfit = np.linspace(-1, 3.5)\n",
    "plt.scatter(X[:, 0], X[:, 1], c=y, s=50, cmap='summer')\n",
    "for m, b, d in [(1, 0.65, 0.33), (0.5, 1.6, 0.55), (-0.2, 2.9, 0.2)]:\n",
    "    yfit = m * xfit + b\n",
    "    plt.plot(xfit, yfit, '-k')\n",
    "    plt.fill_between(xfit, yfit - d, yfit + d, edgecolor='none',\n",
    "    color='#AAAAAA', alpha=0.4)\n",
    "    plt.xlim(-1, 3.5);\n",
    "    \n",
    "from sklearn.svm import SVC # \"Support vector classifier\"\n",
    "model = SVC(kernel='linear', C=1E10)\n",
    "model.fit(X, y)\n",
    "SVC(C=10000000000.0, cache_size=200, class_weight=None, coef0=0.0,\n",
    "decision_function_shape='ovr', degree=3, gamma='auto_deprecated',\n",
    "kernel='linear', max_iter=-1, probability=False, random_state=None,\n",
    "shrinking=True, tol=0.001, verbose=False)\n",
    "\n",
    "def decision_function(model, ax=None, plot_support=True):\n",
    "    if ax is None:\n",
    "        ax = plt.gca()\n",
    "    xlim = ax.get_xlim()\n",
    "    ylim = ax.get_ylim()\n",
    "    \n",
    "    x = np.linspace(xlim[0], xlim[1], 30)\n",
    "    y = np.linspace(ylim[0], ylim[1], 30)\n",
    "\n",
    "Y, X = np.meshgrid(y, x)\n",
    "xy = np.vstack([X.ravel(), Y.ravel()]).T\n",
    "P = model.decision_function(xy).reshape(X.shape)\n",
    "\n",
    "ax.contour(X, Y, P, colors='k',\n",
    "levels=[-1, 0, 1], alpha=0.5,\n",
    "linestyles=['--', '-', '--'])\n",
    "\n",
    "if plot_support:\n",
    "    ax.scatter(model.support_vectors_[:, 0],\n",
    "            model.support_vectors_[:, 1],\n",
    "            s=300, linewidth=1, facecolors='none');\n",
    "ax.set_xlim(xlim)\n",
    "ax.set_ylim(ylim)\n",
    "\n",
    "plt.scatter(X[:, 0], X[:, 1], c=y, s=50, cmap='summer')\n",
    "decision_function(model);\n",
    "model.support_vectors_"
   ]
  },
  {
   "cell_type": "code",
   "execution_count": null,
   "metadata": {},
   "outputs": [],
   "source": []
  },
  {
   "cell_type": "code",
   "execution_count": 158,
   "metadata": {},
   "outputs": [
    {
     "ename": "ValueError",
     "evalue": "'gtkagg' is not a valid value for backend; supported values are ['GTK3Agg', 'GTK3Cairo', 'MacOSX', 'nbAgg', 'Qt4Agg', 'Qt4Cairo', 'Qt5Agg', 'Qt5Cairo', 'TkAgg', 'TkCairo', 'WebAgg', 'WX', 'WXAgg', 'WXCairo', 'agg', 'cairo', 'pdf', 'pgf', 'ps', 'svg', 'template']",
     "output_type": "error",
     "traceback": [
      "\u001b[1;31m---------------------------------------------------------------------------\u001b[0m",
      "\u001b[1;31mValueError\u001b[0m                                Traceback (most recent call last)",
      "\u001b[1;32m<ipython-input-158-91719ee9e80c>\u001b[0m in \u001b[0;36m<module>\u001b[1;34m\u001b[0m\n\u001b[0;32m      1\u001b[0m \u001b[1;32mimport\u001b[0m \u001b[0mmatplotlib\u001b[0m\u001b[1;33m\u001b[0m\u001b[1;33m\u001b[0m\u001b[0m\n\u001b[1;32m----> 2\u001b[1;33m \u001b[0mmatplotlib\u001b[0m\u001b[1;33m.\u001b[0m\u001b[0muse\u001b[0m\u001b[1;33m(\u001b[0m\u001b[1;34m'GTKAgg'\u001b[0m\u001b[1;33m)\u001b[0m\u001b[1;33m\u001b[0m\u001b[1;33m\u001b[0m\u001b[0m\n\u001b[0m\u001b[0;32m      3\u001b[0m \u001b[1;33m\u001b[0m\u001b[0m\n\u001b[0;32m      4\u001b[0m \u001b[1;32mimport\u001b[0m \u001b[0mnumpy\u001b[0m \u001b[1;32mas\u001b[0m \u001b[0mnp\u001b[0m\u001b[1;33m\u001b[0m\u001b[1;33m\u001b[0m\u001b[0m\n\u001b[0;32m      5\u001b[0m \u001b[1;32mimport\u001b[0m \u001b[0mmatplotlib\u001b[0m\u001b[1;33m.\u001b[0m\u001b[0mpyplot\u001b[0m \u001b[1;32mas\u001b[0m \u001b[0mplt\u001b[0m\u001b[1;33m\u001b[0m\u001b[1;33m\u001b[0m\u001b[0m\n",
      "\u001b[1;32mF:\\Users\\Ahmed Abdulwhhab\\miniconda3\\envs\\py3\\lib\\site-packages\\matplotlib\\__init__.py\u001b[0m in \u001b[0;36muse\u001b[1;34m(backend, force)\u001b[0m\n\u001b[0;32m   1143\u001b[0m     \u001b[0mmatplotlib\u001b[0m\u001b[1;33m.\u001b[0m\u001b[0mget_backend\u001b[0m\u001b[1;33m\u001b[0m\u001b[1;33m\u001b[0m\u001b[0m\n\u001b[0;32m   1144\u001b[0m     \"\"\"\n\u001b[1;32m-> 1145\u001b[1;33m     \u001b[0mname\u001b[0m \u001b[1;33m=\u001b[0m \u001b[0mvalidate_backend\u001b[0m\u001b[1;33m(\u001b[0m\u001b[0mbackend\u001b[0m\u001b[1;33m)\u001b[0m\u001b[1;33m\u001b[0m\u001b[1;33m\u001b[0m\u001b[0m\n\u001b[0m\u001b[0;32m   1146\u001b[0m     \u001b[1;31m# we need to use the base-class method here to avoid (prematurely)\u001b[0m\u001b[1;33m\u001b[0m\u001b[1;33m\u001b[0m\u001b[1;33m\u001b[0m\u001b[0m\n\u001b[0;32m   1147\u001b[0m     \u001b[1;31m# resolving the \"auto\" backend setting\u001b[0m\u001b[1;33m\u001b[0m\u001b[1;33m\u001b[0m\u001b[1;33m\u001b[0m\u001b[0m\n",
      "\u001b[1;32mF:\\Users\\Ahmed Abdulwhhab\\miniconda3\\envs\\py3\\lib\\site-packages\\matplotlib\\rcsetup.py\u001b[0m in \u001b[0;36mvalidate_backend\u001b[1;34m(s)\u001b[0m\n\u001b[0;32m    293\u001b[0m     backend = (\n\u001b[0;32m    294\u001b[0m         \u001b[0ms\u001b[0m \u001b[1;32mif\u001b[0m \u001b[0ms\u001b[0m \u001b[1;32mis\u001b[0m \u001b[0m_auto_backend_sentinel\u001b[0m \u001b[1;32mor\u001b[0m \u001b[0ms\u001b[0m\u001b[1;33m.\u001b[0m\u001b[0mstartswith\u001b[0m\u001b[1;33m(\u001b[0m\u001b[1;34m\"module://\"\u001b[0m\u001b[1;33m)\u001b[0m\u001b[1;33m\u001b[0m\u001b[1;33m\u001b[0m\u001b[0m\n\u001b[1;32m--> 295\u001b[1;33m         else _validate_standard_backends(s))\n\u001b[0m\u001b[0;32m    296\u001b[0m     \u001b[1;32mreturn\u001b[0m \u001b[0mbackend\u001b[0m\u001b[1;33m\u001b[0m\u001b[1;33m\u001b[0m\u001b[0m\n\u001b[0;32m    297\u001b[0m \u001b[1;33m\u001b[0m\u001b[0m\n",
      "\u001b[1;32mF:\\Users\\Ahmed Abdulwhhab\\miniconda3\\envs\\py3\\lib\\site-packages\\matplotlib\\rcsetup.py\u001b[0m in \u001b[0;36m__call__\u001b[1;34m(self, s)\u001b[0m\n\u001b[0;32m     79\u001b[0m                 and s[1:-1] in self.valid):\n\u001b[0;32m     80\u001b[0m             \u001b[0mmsg\u001b[0m \u001b[1;33m+=\u001b[0m \u001b[1;34m\"; remove quotes surrounding your string\"\u001b[0m\u001b[1;33m\u001b[0m\u001b[1;33m\u001b[0m\u001b[0m\n\u001b[1;32m---> 81\u001b[1;33m         \u001b[1;32mraise\u001b[0m \u001b[0mValueError\u001b[0m\u001b[1;33m(\u001b[0m\u001b[0mmsg\u001b[0m\u001b[1;33m)\u001b[0m\u001b[1;33m\u001b[0m\u001b[1;33m\u001b[0m\u001b[0m\n\u001b[0m\u001b[0;32m     82\u001b[0m \u001b[1;33m\u001b[0m\u001b[0m\n\u001b[0;32m     83\u001b[0m \u001b[1;33m\u001b[0m\u001b[0m\n",
      "\u001b[1;31mValueError\u001b[0m: 'gtkagg' is not a valid value for backend; supported values are ['GTK3Agg', 'GTK3Cairo', 'MacOSX', 'nbAgg', 'Qt4Agg', 'Qt4Cairo', 'Qt5Agg', 'Qt5Cairo', 'TkAgg', 'TkCairo', 'WebAgg', 'WX', 'WXAgg', 'WXCairo', 'agg', 'cairo', 'pdf', 'pgf', 'ps', 'svg', 'template']"
     ]
    }
   ],
   "source": [
    "import matplotlib\n",
    "matplotlib.use('GTKAgg')\n",
    "\n",
    "import numpy as np\n",
    "import matplotlib.pyplot as plt\n",
    "from sklearn import svm, datasets\n",
    "\n",
    "# import some data to play with\n",
    "iris = datasets.load_iris()\n",
    "X = iris.data[:, :2]  # we only take the first two features. We could\n",
    "# avoid this ugly slicing by using a two-dim dataset\n",
    "y = iris.target\n",
    "\n",
    "h = .02  # step size in the mesh\n",
    "\n",
    "# we create an instance of SVM and fit out data. We do not scale our\n",
    "# data since we want to plot the support vectors\n",
    "C = 1.0  # SVM regularization parameter\n",
    "svc = svm.SVC(kernel='linear', C=C).fit(X, y)\n",
    "rbf_svc = svm.SVC(kernel='rbf', gamma=0.7, C=C).fit(X, y)\n",
    "poly_svc = svm.SVC(kernel='poly', degree=3, C=C).fit(X, y)\n",
    "lin_svc = svm.LinearSVC(C=C).fit(X, y)\n",
    "\n",
    "# create a mesh to plot in\n",
    "x_min, x_max = X[:, 0].min() - 1, X[:, 0].max() + 1\n",
    "y_min, y_max = X[:, 1].min() - 1, X[:, 1].max() + 1\n",
    "xx, yy = np.meshgrid(np.arange(x_min, x_max, h),\n",
    "np.arange(y_min, y_max, h))\n",
    "\n",
    "# title for the plots\n",
    "titles = ['SVC with linear kernel',\n",
    "'LinearSVC (linear kernel)',\n",
    "'SVC with RBF kernel',\n",
    "'SVC with polynomial (degree 3) kernel']\n",
    "\n",
    "for i, clf in enumerate((svc, lin_svc, rbf_svc, poly_svc)):\n",
    "    # Plot the decision boundary. For that, we will assign a color to each\n",
    "    # point in the mesh [x_min, x_max]x[y_min, y_max].\n",
    "    plt.subplot(2, 2, i + 1)\n",
    "plt.subplots_adjust(wspace=0.4, hspace=0.4)\n",
    "\n",
    "Z = clf.predict(np.c_[xx.ravel(), yy.ravel()])\n",
    "\n",
    "# Put the result into a color plot\n",
    "Z = Z.reshape(xx.shape)\n",
    "plt.contourf(xx, yy, Z, cmap=plt.cm.coolwarm, alpha=0.8)\n",
    "\n",
    "# Plot also the training points\n",
    "plt.scatter(X[:, 0], X[:, 1], c=y, cmap=plt.cm.coolwarm)\n",
    "plt.xlabel('Sepal length')\n",
    "plt.ylabel('Sepal width')\n",
    "plt.xlim(xx.min(), xx.max())\n",
    "plt.ylim(yy.min(), yy.max())\n",
    "plt.xticks(())\n",
    "plt.yticks(())\n",
    "plt.title(titles[i])\n",
    "\n",
    "plt.show()"
   ]
  },
  {
   "cell_type": "code",
   "execution_count": null,
   "metadata": {},
   "outputs": [],
   "source": []
  }
 ],
 "metadata": {
  "kernelspec": {
   "display_name": "Python 3",
   "language": "python",
   "name": "python3"
  },
  "language_info": {
   "codemirror_mode": {
    "name": "ipython",
    "version": 3
   },
   "file_extension": ".py",
   "mimetype": "text/x-python",
   "name": "python",
   "nbconvert_exporter": "python",
   "pygments_lexer": "ipython3",
   "version": "3.8.5"
  }
 },
 "nbformat": 4,
 "nbformat_minor": 4
}
